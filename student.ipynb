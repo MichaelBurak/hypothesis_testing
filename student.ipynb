{
 "cells": [
  {
   "cell_type": "markdown",
   "metadata": {
    "toc": true
   },
   "source": [
    "<h1>Table of Contents<span class=\"tocSkip\"></span></h1>\n",
    "<div class=\"toc\"><ul class=\"toc-item\"><li><span><a href=\"#Mod-3-Final-Project\" data-toc-modified-id=\"Mod-3-Final-Project-1\">Mod 3 Final Project</a></span><ul class=\"toc-item\"><li><span><a href=\"#Student-Info\" data-toc-modified-id=\"Student-Info-1.1\">Student Info</a></span></li></ul></li><li><span><a href=\"#Importing-libraries-and-functions\" data-toc-modified-id=\"Importing-libraries-and-functions-2\">Importing libraries and functions</a></span></li><li><span><a href=\"#List-of-tables-in-database\" data-toc-modified-id=\"List-of-tables-in-database-3\">List of tables in database</a></span></li><li><span><a href=\"#Hypothesis-1:\" data-toc-modified-id=\"Hypothesis-1:-4\">Hypothesis 1:</a></span><ul class=\"toc-item\"><li><ul class=\"toc-item\"><li><span><a href=\"#-Does-discount-amount-have-a-statistically-significant-effect-on-the-quantity-of-a-product-in-an-order?-If-so,-at-what-level(s)-of-discount?\" data-toc-modified-id=\"-Does-discount-amount-have-a-statistically-significant-effect-on-the-quantity-of-a-product-in-an-order?-If-so,-at-what-level(s)-of-discount?-4.0.1\">-Does discount amount have a statistically significant effect on the quantity of a product in an order? If so, at what level(s) of discount?</a></span></li><li><span><a href=\"#--Null-hypothesis:\" data-toc-modified-id=\"--Null-hypothesis:-4.0.2\">- Null hypothesis:</a></span></li><li><span><a href=\"#--Alternative-hypothesis:\" data-toc-modified-id=\"--Alternative-hypothesis:-4.0.3\">- Alternative hypothesis:</a></span></li></ul></li></ul></li><li><span><a href=\"#Creating-dataframes-with-and-without-Discounts-being-given-on-orders.\" data-toc-modified-id=\"Creating-dataframes-with-and-without-Discounts-being-given-on-orders.-5\">Creating dataframes with and without Discounts being given on orders.</a></span></li><li><span><a href=\"#Creating-DF-with-only-no-discount-on-orders.\" data-toc-modified-id=\"Creating-DF-with-only-no-discount-on-orders.-6\">Creating DF with only no discount on orders.</a></span></li><li><span><a href=\"#Outlier-Removal-on-both-groups(dataframes.)\" data-toc-modified-id=\"Outlier-Removal-on-both-groups(dataframes.)-7\">Outlier Removal on both groups(dataframes.)</a></span></li><li><span><a href=\"#TBD---Multi-group-outlier-plotting-and-removal-function\" data-toc-modified-id=\"TBD---Multi-group-outlier-plotting-and-removal-function-8\">TBD - Multi-group outlier plotting and removal function</a></span></li><li><span><a href=\"#Normality-Test-for-both-groups\" data-toc-modified-id=\"Normality-Test-for-both-groups-9\">Normality Test for both groups</a></span></li><li><span><a href=\"#TBD:-Multigroup-Normality,-Equal-Variance-Test-function\" data-toc-modified-id=\"TBD:-Multigroup-Normality,-Equal-Variance-Test-function-10\">TBD: Multigroup Normality, Equal Variance Test function</a></span></li><li><span><a href=\"#Equal-Variance-test-for-both-groups\" data-toc-modified-id=\"Equal-Variance-test-for-both-groups-11\">Equal Variance test for both groups</a></span></li><li><span><a href=\"#Welch's-T-Test:-Hypothesis-1\" data-toc-modified-id=\"Welch's-T-Test:-Hypothesis-1-12\">Welch's T-Test: Hypothesis 1</a></span></li><li><span><a href=\"#Post-hoc-Tests,-Recommendations,-and-Summary:-Hypothesis-1\" data-toc-modified-id=\"Post-hoc-Tests,-Recommendations,-and-Summary:-Hypothesis-1-13\">Post-hoc Tests, Recommendations, and Summary: Hypothesis 1</a></span><ul class=\"toc-item\"><li><span><a href=\"#Cohen's-D-suggests-a-small-effect-size\" data-toc-modified-id=\"Cohen's-D-suggests-a-small-effect-size-13.1\">Cohen's D suggests a small effect size</a></span></li></ul></li><li><span><a href=\"#Tukey-range-test:-Hypothesis-1\" data-toc-modified-id=\"Tukey-range-test:-Hypothesis-1-14\">Tukey range test: Hypothesis 1</a></span><ul class=\"toc-item\"><li><span><a href=\"#Bar-Chart:-Hypothesis-1\" data-toc-modified-id=\"Bar-Chart:-Hypothesis-1-14.1\">Bar Chart: Hypothesis 1</a></span></li><li><span><a href=\"#Catplot:-Hypothesis-1\" data-toc-modified-id=\"Catplot:-Hypothesis-1-14.2\">Catplot: Hypothesis 1</a></span></li></ul></li><li><span><a href=\"#TBD:-Recommendations-and-Summary:-Hypothesis-1\" data-toc-modified-id=\"TBD:-Recommendations-and-Summary:-Hypothesis-1-15\">TBD: Recommendations and Summary: Hypothesis 1</a></span><ul class=\"toc-item\"><li><span><a href=\"#TL;DR:-.05-is-the-lowest-maximal-discount-given-that-discounts-are-significant,-beyond-that,-why-offer-more?\" data-toc-modified-id=\"TL;DR:-.05-is-the-lowest-maximal-discount-given-that-discounts-are-significant,-beyond-that,-why-offer-more?-15.1\">TL;DR: .05 is the lowest maximal discount given that discounts are significant, beyond that, why offer more?</a></span></li></ul></li><li><span><a href=\"#Hypothesis-2:\" data-toc-modified-id=\"Hypothesis-2:-16\">Hypothesis 2:</a></span><ul class=\"toc-item\"><li><span><a href=\"#TBD:-Add-Null-and-Alternative\" data-toc-modified-id=\"TBD:-Add-Null-and-Alternative-16.1\">TBD: Add Null and Alternative</a></span></li></ul></li><li><span><a href=\"#Getting-the-data-of-employee-hire-date-and-order-discounts-by-employee-and-manipulating-it\" data-toc-modified-id=\"Getting-the-data-of-employee-hire-date-and-order-discounts-by-employee-and-manipulating-it-17\">Getting the data of employee hire date and order discounts by employee and manipulating it</a></span><ul class=\"toc-item\"><li><span><a href=\"#Defining-recent-hires-as-2026,-all-other-hires(2025,-2024)-are-in-the-other-group.\" data-toc-modified-id=\"Defining-recent-hires-as-2026,-all-other-hires(2025,-2024)-are-in-the-other-group.-17.1\">Defining recent hires as 2026, all other hires(2025, 2024) are in the other group.</a></span></li></ul></li><li><span><a href=\"#Outlier-Removal:-Hypothesis-2\" data-toc-modified-id=\"Outlier-Removal:-Hypothesis-2-18\">Outlier Removal: Hypothesis 2</a></span></li><li><span><a href=\"#Normality-tests:-Hypothesis-2\" data-toc-modified-id=\"Normality-tests:-Hypothesis-2-19\">Normality tests: Hypothesis 2</a></span></li><li><span><a href=\"#Equal-variance-test:-Hypothesis-2\" data-toc-modified-id=\"Equal-variance-test:-Hypothesis-2-20\">Equal variance test: Hypothesis 2</a></span><ul class=\"toc-item\"><li><ul class=\"toc-item\"><li><span><a href=\"#Without-normality(but-with-a-large-group-size)-or-equal-variance,-Welch's-t-test-to-be-used\" data-toc-modified-id=\"Without-normality(but-with-a-large-group-size)-or-equal-variance,-Welch's-t-test-to-be-used-20.0.1\">Without normality(but with a large group size) or equal variance, Welch's t-test to be used</a></span></li></ul></li></ul></li><li><span><a href=\"#Welch's-T-Test:-Hypothesis-2\" data-toc-modified-id=\"Welch's-T-Test:-Hypothesis-2-21\">Welch's T-Test: Hypothesis 2</a></span></li><li><span><a href=\"#Post-hoc-tests:-Hypothesis-2\" data-toc-modified-id=\"Post-hoc-tests:-Hypothesis-2-22\">Post-hoc tests: Hypothesis 2</a></span><ul class=\"toc-item\"><li><ul class=\"toc-item\"><li><span><a href=\"#Rather-small-effect-size\" data-toc-modified-id=\"Rather-small-effect-size-22.0.1\">Rather small effect size</a></span></li></ul></li><li><span><a href=\"#Bar-Chart:-Hypothesis-2\" data-toc-modified-id=\"Bar-Chart:-Hypothesis-2-22.1\">Bar Chart: Hypothesis 2</a></span></li></ul></li><li><span><a href=\"#Recommendations-and-Summary:-Hypothesis-2\" data-toc-modified-id=\"Recommendations-and-Summary:-Hypothesis-2-23\">Recommendations and Summary: Hypothesis 2</a></span></li><li><span><a href=\"#TBD:-Flesh-out-recs-and-summary\" data-toc-modified-id=\"TBD:-Flesh-out-recs-and-summary-24\">TBD: Flesh out recs and summary</a></span><ul class=\"toc-item\"><li><ul class=\"toc-item\"><li><span><a href=\"#-Newer-employees-give-more-discounts?\" data-toc-modified-id=\"-Newer-employees-give-more-discounts?-24.0.1\">-Newer employees give more discounts?</a></span></li></ul></li></ul></li><li><span><a href=\"#Hypothesis-3:\" data-toc-modified-id=\"Hypothesis-3:-25\">Hypothesis 3:</a></span><ul class=\"toc-item\"><li><ul class=\"toc-item\"><li><span><a href=\"#--Is-there-an-effect-on-total-sales-by-an-employee-by-their-gender?\" data-toc-modified-id=\"--Is-there-an-effect-on-total-sales-by-an-employee-by-their-gender?-25.0.1\">- Is there an effect on total sales by an employee by their gender?</a></span></li><li><span><a href=\"#--Null-hypothesis:\" data-toc-modified-id=\"--Null-hypothesis:-25.0.2\">- Null hypothesis:</a></span></li><li><span><a href=\"#--Alternative-Hypothesis:\" data-toc-modified-id=\"--Alternative-Hypothesis:-25.0.3\">- Alternative Hypothesis:</a></span></li></ul></li></ul></li><li><span><a href=\"#TBD:-Add-null-and-alternative\" data-toc-modified-id=\"TBD:-Add-null-and-alternative-26\">TBD: Add null and alternative</a></span></li><li><span><a href=\"#Loading-in-data-regarding-employees-and-their-orders\" data-toc-modified-id=\"Loading-in-data-regarding-employees-and-their-orders-27\">Loading in data regarding employees and their orders</a></span><ul class=\"toc-item\"><li><span><a href=\"#Segmenting-by-gender\" data-toc-modified-id=\"Segmenting-by-gender-27.1\">Segmenting by gender</a></span><ul class=\"toc-item\"><li><span><a href=\"#Distribution-of-employees-by-Gender\" data-toc-modified-id=\"Distribution-of-employees-by-Gender-27.1.1\">Distribution of employees by Gender</a></span></li></ul></li><li><span><a href=\"#Creating-Total-out-of-Unit-Price-*-Quantity\" data-toc-modified-id=\"Creating-Total-out-of-Unit-Price-*-Quantity-27.2\">Creating Total out of Unit Price * Quantity</a></span></li></ul></li><li><span><a href=\"#Outlier-Removal:-Hypothesis-3\" data-toc-modified-id=\"Outlier-Removal:-Hypothesis-3-28\">Outlier Removal: Hypothesis 3</a></span></li><li><span><a href=\"#Tests-for-normality,-variance,-final-test:-Hypothesis-3\" data-toc-modified-id=\"Tests-for-normality,-variance,-final-test:-Hypothesis-3-29\">Tests for normality, variance, final test: Hypothesis 3</a></span></li><li><span><a href=\"#Post-hoc-tests:-Hypothesis-3\" data-toc-modified-id=\"Post-hoc-tests:-Hypothesis-3-30\">Post-hoc tests: Hypothesis 3</a></span><ul class=\"toc-item\"><li><span><a href=\"#Suggests-a-small-effect-size.\" data-toc-modified-id=\"Suggests-a-small-effect-size.-30.1\">Suggests a small effect size.</a></span></li><li><span><a href=\"#Bar-Plot:-Hypothesis-3\" data-toc-modified-id=\"Bar-Plot:-Hypothesis-3-30.2\">Bar Plot: Hypothesis 3</a></span></li><li><span><a href=\"#Catplot:-Hypothesis-3\" data-toc-modified-id=\"Catplot:-Hypothesis-3-30.3\">Catplot: Hypothesis 3</a></span></li></ul></li><li><span><a href=\"#Recommendations-and-Summary:-Hypothesis-3\" data-toc-modified-id=\"Recommendations-and-Summary:-Hypothesis-3-31\">Recommendations and Summary: Hypothesis 3</a></span><ul class=\"toc-item\"><li><ul class=\"toc-item\"><li><span><a href=\"#-There's-no-significant-difference-between-genders-represented-and-total-sales.\" data-toc-modified-id=\"-There's-no-significant-difference-between-genders-represented-and-total-sales.-31.0.1\">-There's no significant difference between genders represented and total sales.</a></span></li></ul></li></ul></li><li><span><a href=\"#TBD:-Add-more-rec-and-summary\" data-toc-modified-id=\"TBD:-Add-more-rec-and-summary-32\">TBD: Add more rec and summary</a></span></li><li><span><a href=\"#Hypothesis-4:\" data-toc-modified-id=\"Hypothesis-4:-33\">Hypothesis 4:</a></span><ul class=\"toc-item\"><li><ul class=\"toc-item\"><li><span><a href=\"#--Giving-out-more-discounts-=-more-total-revenue?-By-employee?\" data-toc-modified-id=\"--Giving-out-more-discounts-=-more-total-revenue?-By-employee?-33.0.1\">- Giving out more discounts = more total revenue? By employee?</a></span></li><li><span><a href=\"#--Or-just-look-at-total-if-this-proves-difficult\" data-toc-modified-id=\"--Or-just-look-at-total-if-this-proves-difficult-33.0.2\">- Or just look at total if this proves difficult</a></span></li><li><span><a href=\"#--Getting-average-discount-by-employee-and-amount-of-orders\" data-toc-modified-id=\"--Getting-average-discount-by-employee-and-amount-of-orders-33.0.3\">- Getting average discount by employee and amount of orders</a></span></li><li><span><a href=\"#--What's-a-good-metric-here?\" data-toc-modified-id=\"--What's-a-good-metric-here?-33.0.4\">- What's a good metric here?</a></span></li><li><span><a href=\"#--Null-Hypothesis:\" data-toc-modified-id=\"--Null-Hypothesis:-33.0.5\">- Null Hypothesis:</a></span></li><li><span><a href=\"#--Alternative-Hypothesis:\" data-toc-modified-id=\"--Alternative-Hypothesis:-33.0.6\">- Alternative Hypothesis:</a></span></li></ul></li></ul></li><li><span><a href=\"#NOTES:\" data-toc-modified-id=\"NOTES:-34\">NOTES:</a></span></li></ul></div>"
   ]
  },
  {
   "cell_type": "markdown",
   "metadata": {},
   "source": [
    "# Mod 3 Final Project"
   ]
  },
  {
   "cell_type": "markdown",
   "metadata": {},
   "source": [
    "## Student Info\n",
    "\n",
    "- Name: Michael Burak\n",
    "- Cohort: \n",
    "- Instructor:\n"
   ]
  },
  {
   "cell_type": "markdown",
   "metadata": {},
   "source": [
    "<img src=\"https://raw.githubusercontent.com/jirvingphd/dsc-mod-3-project-online-ds-ft-100719/master/Northwind_ERD_updated.png\">"
   ]
  },
  {
   "cell_type": "markdown",
   "metadata": {},
   "source": [
    "# Importing libraries and functions"
   ]
  },
  {
   "cell_type": "code",
   "execution_count": 1,
   "metadata": {
    "ExecuteTime": {
     "end_time": "2020-01-30T23:04:19.305023Z",
     "start_time": "2020-01-30T23:04:18.598439Z"
    }
   },
   "outputs": [
    {
     "name": "stdout",
     "output_type": "stream",
     "text": [
      "fsds_1007219  v0.7.4 loaded.  Read the docs: https://fsds.readthedocs.io/en/latest/ \n"
     ]
    },
    {
     "data": {
      "text/html": [
       "<style  type=\"text/css\" >\n",
       "</style><table id=\"T_2e7f05d4_47cc_11ea_a88c_6030d4693bb2\" ><caption>Loaded Packages and Handles</caption><thead>    <tr>        <th class=\"col_heading level0 col0\" >Handle</th>        <th class=\"col_heading level0 col1\" >Package</th>        <th class=\"col_heading level0 col2\" >Description</th>    </tr></thead><tbody>\n",
       "                <tr>\n",
       "                                <td id=\"T_2e7f05d4_47cc_11ea_a88c_6030d4693bb2row0_col0\" class=\"data row0 col0\" >dp</td>\n",
       "                        <td id=\"T_2e7f05d4_47cc_11ea_a88c_6030d4693bb2row0_col1\" class=\"data row0 col1\" >IPython.display</td>\n",
       "                        <td id=\"T_2e7f05d4_47cc_11ea_a88c_6030d4693bb2row0_col2\" class=\"data row0 col2\" >Display modules with helpful display and clearing commands.</td>\n",
       "            </tr>\n",
       "            <tr>\n",
       "                                <td id=\"T_2e7f05d4_47cc_11ea_a88c_6030d4693bb2row1_col0\" class=\"data row1 col0\" >fs</td>\n",
       "                        <td id=\"T_2e7f05d4_47cc_11ea_a88c_6030d4693bb2row1_col1\" class=\"data row1 col1\" >fsds_100719</td>\n",
       "                        <td id=\"T_2e7f05d4_47cc_11ea_a88c_6030d4693bb2row1_col2\" class=\"data row1 col2\" >Custom data science bootcamp student package</td>\n",
       "            </tr>\n",
       "            <tr>\n",
       "                                <td id=\"T_2e7f05d4_47cc_11ea_a88c_6030d4693bb2row2_col0\" class=\"data row2 col0\" >mpl</td>\n",
       "                        <td id=\"T_2e7f05d4_47cc_11ea_a88c_6030d4693bb2row2_col1\" class=\"data row2 col1\" >matplotlib</td>\n",
       "                        <td id=\"T_2e7f05d4_47cc_11ea_a88c_6030d4693bb2row2_col2\" class=\"data row2 col2\" >Matplotlib's base OOP module with formatting artists</td>\n",
       "            </tr>\n",
       "            <tr>\n",
       "                                <td id=\"T_2e7f05d4_47cc_11ea_a88c_6030d4693bb2row3_col0\" class=\"data row3 col0\" >plt</td>\n",
       "                        <td id=\"T_2e7f05d4_47cc_11ea_a88c_6030d4693bb2row3_col1\" class=\"data row3 col1\" >matplotlib.pyplot</td>\n",
       "                        <td id=\"T_2e7f05d4_47cc_11ea_a88c_6030d4693bb2row3_col2\" class=\"data row3 col2\" >Matplotlib's matlab-like plotting module</td>\n",
       "            </tr>\n",
       "            <tr>\n",
       "                                <td id=\"T_2e7f05d4_47cc_11ea_a88c_6030d4693bb2row4_col0\" class=\"data row4 col0\" >np</td>\n",
       "                        <td id=\"T_2e7f05d4_47cc_11ea_a88c_6030d4693bb2row4_col1\" class=\"data row4 col1\" >numpy</td>\n",
       "                        <td id=\"T_2e7f05d4_47cc_11ea_a88c_6030d4693bb2row4_col2\" class=\"data row4 col2\" >scientific computing with Python</td>\n",
       "            </tr>\n",
       "            <tr>\n",
       "                                <td id=\"T_2e7f05d4_47cc_11ea_a88c_6030d4693bb2row5_col0\" class=\"data row5 col0\" >pd</td>\n",
       "                        <td id=\"T_2e7f05d4_47cc_11ea_a88c_6030d4693bb2row5_col1\" class=\"data row5 col1\" >pandas</td>\n",
       "                        <td id=\"T_2e7f05d4_47cc_11ea_a88c_6030d4693bb2row5_col2\" class=\"data row5 col2\" >High performance data structures and tools</td>\n",
       "            </tr>\n",
       "            <tr>\n",
       "                                <td id=\"T_2e7f05d4_47cc_11ea_a88c_6030d4693bb2row6_col0\" class=\"data row6 col0\" >sns</td>\n",
       "                        <td id=\"T_2e7f05d4_47cc_11ea_a88c_6030d4693bb2row6_col1\" class=\"data row6 col1\" >seaborn</td>\n",
       "                        <td id=\"T_2e7f05d4_47cc_11ea_a88c_6030d4693bb2row6_col2\" class=\"data row6 col2\" >High-level data visualization library based on matplotlib</td>\n",
       "            </tr>\n",
       "    </tbody></table>"
      ],
      "text/plain": [
       "<pandas.io.formats.style.Styler at 0x10695d1d0>"
      ]
     },
     "metadata": {},
     "output_type": "display_data"
    },
    {
     "data": {
      "text/html": [
       "        <script type=\"text/javascript\">\n",
       "        window.PlotlyConfig = {MathJaxConfig: 'local'};\n",
       "        if (window.MathJax) {MathJax.Hub.Config({SVG: {font: \"STIX-Web\"}});}\n",
       "        if (typeof require !== 'undefined') {\n",
       "        require.undef(\"plotly\");\n",
       "        requirejs.config({\n",
       "            paths: {\n",
       "                'plotly': ['https://cdn.plot.ly/plotly-latest.min']\n",
       "            }\n",
       "        });\n",
       "        require(['plotly'], function(Plotly) {\n",
       "            window._Plotly = Plotly;\n",
       "        });\n",
       "        }\n",
       "        </script>\n",
       "        "
      ]
     },
     "metadata": {},
     "output_type": "display_data"
    },
    {
     "name": "stdout",
     "output_type": "stream",
     "text": [
      "['[i] Pandas .iplot() method activated.']\n"
     ]
    }
   ],
   "source": [
    "!pip install -U fsds_100719\n",
    "from fsds_100719.imports import *\n",
    "import pandas as pd\n",
    "import numpy as np\n",
    "import scipy\n",
    "from statsmodels.stats.multicomp import MultiComparison"
   ]
  },
  {
   "cell_type": "code",
   "execution_count": 2,
   "metadata": {
    "ExecuteTime": {
     "end_time": "2020-01-30T23:04:19.308972Z",
     "start_time": "2020-01-30T23:04:19.306581Z"
    }
   },
   "outputs": [],
   "source": [
    "from functions import Cohen_d, find_outliers_IQR,find_outliers_Z"
   ]
  },
  {
   "cell_type": "code",
   "execution_count": 3,
   "metadata": {},
   "outputs": [],
   "source": [
    "def normal_test(x): \n",
    "    k2, p = scipy.stats.normaltest(x)\n",
    "    alpha = .05\n",
    "    print(\"p = {:g}\".format(round(p, 4)))\n",
    "    if p < alpha:  # null hypothesis: x comes from a normal distribution\n",
    "        print(\"The null hypothesis can be rejected, data does not appear to be from a normal distribution\")\n",
    "    else:\n",
    "        print(\"The null hypothesis cannot be rejected, data appears to be from a normal distribution.\")"
   ]
  },
  {
   "cell_type": "code",
   "execution_count": 4,
   "metadata": {},
   "outputs": [],
   "source": [
    "def variance_test(data1,data2): \n",
    "    W, p = scipy.stats.levene(data1,data2)\n",
    "    alpha = .05\n",
    "    print(\"p = {:g}\".format(round(p, 4)))\n",
    "    if p < alpha:  # null hypothesis: x comes from a normal distribution\n",
    "        print(\"The null hypothesis can be rejected, data does not appear to have equal variance.\")\n",
    "    else:\n",
    "        print(\"The null hypothesis cannot be rejected, data appears to have equal variance.\")"
   ]
  },
  {
   "cell_type": "code",
   "execution_count": 5,
   "metadata": {},
   "outputs": [],
   "source": [
    "def t_test(data1, data2, equal_var = True):\n",
    "    stat, p = scipy.stats.ttest_ind(data1,data2)\n",
    "    print('Statistics=%.3f, p=%.3f' % (stat, round(p, 4)))\n",
    "    alpha = 0.05\n",
    "    if p < alpha: #Null hypothesis: data comes from same distribution\n",
    "        print('The null hypothesis can be rejected, data appears to be from differing distributions.')\n",
    "    else:\n",
    "        print('The null hypothesis cannot be rejected, data appears to be from the same distribution.')"
   ]
  },
  {
   "cell_type": "code",
   "execution_count": 6,
   "metadata": {},
   "outputs": [],
   "source": [
    "def tukey_test(group1, group2):\n",
    "    mc = MultiComparison(group1,group2)\n",
    "    result = mc.tukeyhsd()\n",
    "    print(result)\n",
    "    print(mc.groupsunique)"
   ]
  },
  {
   "cell_type": "code",
   "execution_count": 7,
   "metadata": {
    "ExecuteTime": {
     "end_time": "2020-01-30T23:04:19.315813Z",
     "start_time": "2020-01-30T23:04:19.312907Z"
    }
   },
   "outputs": [],
   "source": [
    "import sqlite3\n",
    "connect = sqlite3.connect('Northwind_small.sqlite')\n",
    "c = connect.cursor()"
   ]
  },
  {
   "cell_type": "markdown",
   "metadata": {},
   "source": [
    "# List of tables in database"
   ]
  },
  {
   "cell_type": "code",
   "execution_count": 8,
   "metadata": {
    "ExecuteTime": {
     "end_time": "2020-01-30T23:04:19.740510Z",
     "start_time": "2020-01-30T23:04:19.722647Z"
    },
    "scrolled": true
   },
   "outputs": [
    {
     "data": {
      "text/html": [
       "<div>\n",
       "<style scoped>\n",
       "    .dataframe tbody tr th:only-of-type {\n",
       "        vertical-align: middle;\n",
       "    }\n",
       "\n",
       "    .dataframe tbody tr th {\n",
       "        vertical-align: top;\n",
       "    }\n",
       "\n",
       "    .dataframe thead th {\n",
       "        text-align: right;\n",
       "    }\n",
       "</style>\n",
       "<table border=\"1\" class=\"dataframe\">\n",
       "  <thead>\n",
       "    <tr style=\"text-align: right;\">\n",
       "      <th></th>\n",
       "      <th>Table</th>\n",
       "    </tr>\n",
       "  </thead>\n",
       "  <tbody>\n",
       "    <tr>\n",
       "      <td>0</td>\n",
       "      <td>Employee</td>\n",
       "    </tr>\n",
       "    <tr>\n",
       "      <td>1</td>\n",
       "      <td>Category</td>\n",
       "    </tr>\n",
       "    <tr>\n",
       "      <td>2</td>\n",
       "      <td>Customer</td>\n",
       "    </tr>\n",
       "    <tr>\n",
       "      <td>3</td>\n",
       "      <td>Shipper</td>\n",
       "    </tr>\n",
       "    <tr>\n",
       "      <td>4</td>\n",
       "      <td>Supplier</td>\n",
       "    </tr>\n",
       "    <tr>\n",
       "      <td>5</td>\n",
       "      <td>Order</td>\n",
       "    </tr>\n",
       "    <tr>\n",
       "      <td>6</td>\n",
       "      <td>Product</td>\n",
       "    </tr>\n",
       "    <tr>\n",
       "      <td>7</td>\n",
       "      <td>OrderDetail</td>\n",
       "    </tr>\n",
       "    <tr>\n",
       "      <td>8</td>\n",
       "      <td>CustomerCustomerDemo</td>\n",
       "    </tr>\n",
       "    <tr>\n",
       "      <td>9</td>\n",
       "      <td>CustomerDemographic</td>\n",
       "    </tr>\n",
       "    <tr>\n",
       "      <td>10</td>\n",
       "      <td>Region</td>\n",
       "    </tr>\n",
       "    <tr>\n",
       "      <td>11</td>\n",
       "      <td>Territory</td>\n",
       "    </tr>\n",
       "    <tr>\n",
       "      <td>12</td>\n",
       "      <td>EmployeeTerritory</td>\n",
       "    </tr>\n",
       "  </tbody>\n",
       "</table>\n",
       "</div>"
      ],
      "text/plain": [
       "                   Table\n",
       "0               Employee\n",
       "1               Category\n",
       "2               Customer\n",
       "3                Shipper\n",
       "4               Supplier\n",
       "5                  Order\n",
       "6                Product\n",
       "7            OrderDetail\n",
       "8   CustomerCustomerDemo\n",
       "9    CustomerDemographic\n",
       "10                Region\n",
       "11             Territory\n",
       "12     EmployeeTerritory"
      ]
     },
     "execution_count": 8,
     "metadata": {},
     "output_type": "execute_result"
    }
   ],
   "source": [
    "c.execute(\"\"\"SELECT name FROM sqlite_master WHERE type='table';\"\"\")\n",
    "df_tables = pd.DataFrame(c.fetchall(), columns=['Table'])\n",
    "df_tables"
   ]
  },
  {
   "cell_type": "markdown",
   "metadata": {},
   "source": [
    "# Hypothesis 1: "
   ]
  },
  {
   "cell_type": "markdown",
   "metadata": {},
   "source": [
    "\n",
    "### -Does discount amount have a statistically significant effect on the quantity of a product in an order? If so, at what level(s) of discount?\n",
    "### - Null hypothesis:\n",
    "### - Alternative hypothesis:"
   ]
  },
  {
   "cell_type": "code",
   "execution_count": 9,
   "metadata": {},
   "outputs": [
    {
     "data": {
      "text/html": [
       "<div>\n",
       "<style scoped>\n",
       "    .dataframe tbody tr th:only-of-type {\n",
       "        vertical-align: middle;\n",
       "    }\n",
       "\n",
       "    .dataframe tbody tr th {\n",
       "        vertical-align: top;\n",
       "    }\n",
       "\n",
       "    .dataframe thead th {\n",
       "        text-align: right;\n",
       "    }\n",
       "</style>\n",
       "<table border=\"1\" class=\"dataframe\">\n",
       "  <thead>\n",
       "    <tr style=\"text-align: right;\">\n",
       "      <th></th>\n",
       "      <th>Id</th>\n",
       "      <th>OrderId</th>\n",
       "      <th>ProductId</th>\n",
       "      <th>UnitPrice</th>\n",
       "      <th>Quantity</th>\n",
       "      <th>Discount</th>\n",
       "    </tr>\n",
       "  </thead>\n",
       "  <tbody>\n",
       "    <tr>\n",
       "      <td>0</td>\n",
       "      <td>10248/11</td>\n",
       "      <td>10248</td>\n",
       "      <td>11</td>\n",
       "      <td>14.00</td>\n",
       "      <td>12</td>\n",
       "      <td>0.00</td>\n",
       "    </tr>\n",
       "    <tr>\n",
       "      <td>1</td>\n",
       "      <td>10248/42</td>\n",
       "      <td>10248</td>\n",
       "      <td>42</td>\n",
       "      <td>9.80</td>\n",
       "      <td>10</td>\n",
       "      <td>0.00</td>\n",
       "    </tr>\n",
       "    <tr>\n",
       "      <td>2</td>\n",
       "      <td>10248/72</td>\n",
       "      <td>10248</td>\n",
       "      <td>72</td>\n",
       "      <td>34.80</td>\n",
       "      <td>5</td>\n",
       "      <td>0.00</td>\n",
       "    </tr>\n",
       "    <tr>\n",
       "      <td>3</td>\n",
       "      <td>10249/14</td>\n",
       "      <td>10249</td>\n",
       "      <td>14</td>\n",
       "      <td>18.60</td>\n",
       "      <td>9</td>\n",
       "      <td>0.00</td>\n",
       "    </tr>\n",
       "    <tr>\n",
       "      <td>4</td>\n",
       "      <td>10249/51</td>\n",
       "      <td>10249</td>\n",
       "      <td>51</td>\n",
       "      <td>42.40</td>\n",
       "      <td>40</td>\n",
       "      <td>0.00</td>\n",
       "    </tr>\n",
       "    <tr>\n",
       "      <td>...</td>\n",
       "      <td>...</td>\n",
       "      <td>...</td>\n",
       "      <td>...</td>\n",
       "      <td>...</td>\n",
       "      <td>...</td>\n",
       "      <td>...</td>\n",
       "    </tr>\n",
       "    <tr>\n",
       "      <td>2150</td>\n",
       "      <td>11077/64</td>\n",
       "      <td>11077</td>\n",
       "      <td>64</td>\n",
       "      <td>33.25</td>\n",
       "      <td>2</td>\n",
       "      <td>0.03</td>\n",
       "    </tr>\n",
       "    <tr>\n",
       "      <td>2151</td>\n",
       "      <td>11077/66</td>\n",
       "      <td>11077</td>\n",
       "      <td>66</td>\n",
       "      <td>17.00</td>\n",
       "      <td>1</td>\n",
       "      <td>0.00</td>\n",
       "    </tr>\n",
       "    <tr>\n",
       "      <td>2152</td>\n",
       "      <td>11077/73</td>\n",
       "      <td>11077</td>\n",
       "      <td>73</td>\n",
       "      <td>15.00</td>\n",
       "      <td>2</td>\n",
       "      <td>0.01</td>\n",
       "    </tr>\n",
       "    <tr>\n",
       "      <td>2153</td>\n",
       "      <td>11077/75</td>\n",
       "      <td>11077</td>\n",
       "      <td>75</td>\n",
       "      <td>7.75</td>\n",
       "      <td>4</td>\n",
       "      <td>0.00</td>\n",
       "    </tr>\n",
       "    <tr>\n",
       "      <td>2154</td>\n",
       "      <td>11077/77</td>\n",
       "      <td>11077</td>\n",
       "      <td>77</td>\n",
       "      <td>13.00</td>\n",
       "      <td>2</td>\n",
       "      <td>0.00</td>\n",
       "    </tr>\n",
       "  </tbody>\n",
       "</table>\n",
       "<p>2155 rows × 6 columns</p>\n",
       "</div>"
      ],
      "text/plain": [
       "            Id  OrderId  ProductId  UnitPrice  Quantity  Discount\n",
       "0     10248/11    10248         11      14.00        12      0.00\n",
       "1     10248/42    10248         42       9.80        10      0.00\n",
       "2     10248/72    10248         72      34.80         5      0.00\n",
       "3     10249/14    10249         14      18.60         9      0.00\n",
       "4     10249/51    10249         51      42.40        40      0.00\n",
       "...        ...      ...        ...        ...       ...       ...\n",
       "2150  11077/64    11077         64      33.25         2      0.03\n",
       "2151  11077/66    11077         66      17.00         1      0.00\n",
       "2152  11077/73    11077         73      15.00         2      0.01\n",
       "2153  11077/75    11077         75       7.75         4      0.00\n",
       "2154  11077/77    11077         77      13.00         2      0.00\n",
       "\n",
       "[2155 rows x 6 columns]"
      ]
     },
     "execution_count": 9,
     "metadata": {},
     "output_type": "execute_result"
    }
   ],
   "source": [
    "c.execute(\"SELECT * FROM OrderDetail\")\n",
    " \n",
    "df_od = pd.DataFrame(c.fetchall())\n",
    "df_od.columns = [x[0] for x in c.description]\n",
    "\n",
    "df_od"
   ]
  },
  {
   "cell_type": "code",
   "execution_count": 10,
   "metadata": {},
   "outputs": [
    {
     "name": "stdout",
     "output_type": "stream",
     "text": [
      "<class 'pandas.core.frame.DataFrame'>\n",
      "RangeIndex: 2155 entries, 0 to 2154\n",
      "Data columns (total 6 columns):\n",
      "Id           2155 non-null object\n",
      "OrderId      2155 non-null int64\n",
      "ProductId    2155 non-null int64\n",
      "UnitPrice    2155 non-null float64\n",
      "Quantity     2155 non-null int64\n",
      "Discount     2155 non-null float64\n",
      "dtypes: float64(2), int64(3), object(1)\n",
      "memory usage: 101.1+ KB\n"
     ]
    }
   ],
   "source": [
    "df_od.info()"
   ]
  },
  {
   "cell_type": "markdown",
   "metadata": {},
   "source": [
    "# Creating dataframes with and without Discounts being given on orders."
   ]
  },
  {
   "cell_type": "code",
   "execution_count": 11,
   "metadata": {},
   "outputs": [
    {
     "data": {
      "text/html": [
       "<div>\n",
       "<style scoped>\n",
       "    .dataframe tbody tr th:only-of-type {\n",
       "        vertical-align: middle;\n",
       "    }\n",
       "\n",
       "    .dataframe tbody tr th {\n",
       "        vertical-align: top;\n",
       "    }\n",
       "\n",
       "    .dataframe thead th {\n",
       "        text-align: right;\n",
       "    }\n",
       "</style>\n",
       "<table border=\"1\" class=\"dataframe\">\n",
       "  <thead>\n",
       "    <tr style=\"text-align: right;\">\n",
       "      <th></th>\n",
       "      <th>Id</th>\n",
       "      <th>OrderId</th>\n",
       "      <th>ProductId</th>\n",
       "      <th>UnitPrice</th>\n",
       "      <th>Quantity</th>\n",
       "      <th>Discount</th>\n",
       "    </tr>\n",
       "  </thead>\n",
       "  <tbody>\n",
       "    <tr>\n",
       "      <td>6</td>\n",
       "      <td>10250/51</td>\n",
       "      <td>10250</td>\n",
       "      <td>51</td>\n",
       "      <td>42.4</td>\n",
       "      <td>35</td>\n",
       "      <td>0.15</td>\n",
       "    </tr>\n",
       "    <tr>\n",
       "      <td>7</td>\n",
       "      <td>10250/65</td>\n",
       "      <td>10250</td>\n",
       "      <td>65</td>\n",
       "      <td>16.8</td>\n",
       "      <td>15</td>\n",
       "      <td>0.15</td>\n",
       "    </tr>\n",
       "    <tr>\n",
       "      <td>8</td>\n",
       "      <td>10251/22</td>\n",
       "      <td>10251</td>\n",
       "      <td>22</td>\n",
       "      <td>16.8</td>\n",
       "      <td>6</td>\n",
       "      <td>0.05</td>\n",
       "    </tr>\n",
       "    <tr>\n",
       "      <td>9</td>\n",
       "      <td>10251/57</td>\n",
       "      <td>10251</td>\n",
       "      <td>57</td>\n",
       "      <td>15.6</td>\n",
       "      <td>15</td>\n",
       "      <td>0.05</td>\n",
       "    </tr>\n",
       "    <tr>\n",
       "      <td>11</td>\n",
       "      <td>10252/20</td>\n",
       "      <td>10252</td>\n",
       "      <td>20</td>\n",
       "      <td>64.8</td>\n",
       "      <td>40</td>\n",
       "      <td>0.05</td>\n",
       "    </tr>\n",
       "    <tr>\n",
       "      <td>12</td>\n",
       "      <td>10252/33</td>\n",
       "      <td>10252</td>\n",
       "      <td>33</td>\n",
       "      <td>2.0</td>\n",
       "      <td>25</td>\n",
       "      <td>0.05</td>\n",
       "    </tr>\n",
       "    <tr>\n",
       "      <td>17</td>\n",
       "      <td>10254/24</td>\n",
       "      <td>10254</td>\n",
       "      <td>24</td>\n",
       "      <td>3.6</td>\n",
       "      <td>15</td>\n",
       "      <td>0.15</td>\n",
       "    </tr>\n",
       "    <tr>\n",
       "      <td>18</td>\n",
       "      <td>10254/55</td>\n",
       "      <td>10254</td>\n",
       "      <td>55</td>\n",
       "      <td>19.2</td>\n",
       "      <td>21</td>\n",
       "      <td>0.15</td>\n",
       "    </tr>\n",
       "    <tr>\n",
       "      <td>29</td>\n",
       "      <td>10258/2</td>\n",
       "      <td>10258</td>\n",
       "      <td>2</td>\n",
       "      <td>15.2</td>\n",
       "      <td>50</td>\n",
       "      <td>0.20</td>\n",
       "    </tr>\n",
       "    <tr>\n",
       "      <td>30</td>\n",
       "      <td>10258/5</td>\n",
       "      <td>10258</td>\n",
       "      <td>5</td>\n",
       "      <td>17.0</td>\n",
       "      <td>65</td>\n",
       "      <td>0.20</td>\n",
       "    </tr>\n",
       "  </tbody>\n",
       "</table>\n",
       "</div>"
      ],
      "text/plain": [
       "          Id  OrderId  ProductId  UnitPrice  Quantity  Discount\n",
       "6   10250/51    10250         51       42.4        35      0.15\n",
       "7   10250/65    10250         65       16.8        15      0.15\n",
       "8   10251/22    10251         22       16.8         6      0.05\n",
       "9   10251/57    10251         57       15.6        15      0.05\n",
       "11  10252/20    10252         20       64.8        40      0.05\n",
       "12  10252/33    10252         33        2.0        25      0.05\n",
       "17  10254/24    10254         24        3.6        15      0.15\n",
       "18  10254/55    10254         55       19.2        21      0.15\n",
       "29   10258/2    10258          2       15.2        50      0.20\n",
       "30   10258/5    10258          5       17.0        65      0.20"
      ]
     },
     "execution_count": 11,
     "metadata": {},
     "output_type": "execute_result"
    }
   ],
   "source": [
    "df_dis = df_od.loc[df_od['Discount'] > 0]\n",
    "\n",
    "df_dis.head(10)"
   ]
  },
  {
   "cell_type": "code",
   "execution_count": 12,
   "metadata": {
    "scrolled": true
   },
   "outputs": [
    {
     "data": {
      "text/plain": [
       "0.05    185\n",
       "0.10    173\n",
       "0.20    161\n",
       "0.15    157\n",
       "0.25    154\n",
       "0.03      3\n",
       "0.02      2\n",
       "0.04      1\n",
       "0.06      1\n",
       "0.01      1\n",
       "Name: Discount, dtype: int64"
      ]
     },
     "execution_count": 12,
     "metadata": {},
     "output_type": "execute_result"
    }
   ],
   "source": [
    "df_dis['Discount'].value_counts()"
   ]
  },
  {
   "cell_type": "markdown",
   "metadata": {},
   "source": [
    "# Creating DF with only no discount on orders."
   ]
  },
  {
   "cell_type": "code",
   "execution_count": 13,
   "metadata": {},
   "outputs": [
    {
     "data": {
      "text/html": [
       "<div>\n",
       "<style scoped>\n",
       "    .dataframe tbody tr th:only-of-type {\n",
       "        vertical-align: middle;\n",
       "    }\n",
       "\n",
       "    .dataframe tbody tr th {\n",
       "        vertical-align: top;\n",
       "    }\n",
       "\n",
       "    .dataframe thead th {\n",
       "        text-align: right;\n",
       "    }\n",
       "</style>\n",
       "<table border=\"1\" class=\"dataframe\">\n",
       "  <thead>\n",
       "    <tr style=\"text-align: right;\">\n",
       "      <th></th>\n",
       "      <th>Id</th>\n",
       "      <th>OrderId</th>\n",
       "      <th>ProductId</th>\n",
       "      <th>UnitPrice</th>\n",
       "      <th>Quantity</th>\n",
       "      <th>Discount</th>\n",
       "    </tr>\n",
       "  </thead>\n",
       "  <tbody>\n",
       "    <tr>\n",
       "      <td>0</td>\n",
       "      <td>10248/11</td>\n",
       "      <td>10248</td>\n",
       "      <td>11</td>\n",
       "      <td>14.0</td>\n",
       "      <td>12</td>\n",
       "      <td>0.0</td>\n",
       "    </tr>\n",
       "    <tr>\n",
       "      <td>1</td>\n",
       "      <td>10248/42</td>\n",
       "      <td>10248</td>\n",
       "      <td>42</td>\n",
       "      <td>9.8</td>\n",
       "      <td>10</td>\n",
       "      <td>0.0</td>\n",
       "    </tr>\n",
       "    <tr>\n",
       "      <td>2</td>\n",
       "      <td>10248/72</td>\n",
       "      <td>10248</td>\n",
       "      <td>72</td>\n",
       "      <td>34.8</td>\n",
       "      <td>5</td>\n",
       "      <td>0.0</td>\n",
       "    </tr>\n",
       "    <tr>\n",
       "      <td>3</td>\n",
       "      <td>10249/14</td>\n",
       "      <td>10249</td>\n",
       "      <td>14</td>\n",
       "      <td>18.6</td>\n",
       "      <td>9</td>\n",
       "      <td>0.0</td>\n",
       "    </tr>\n",
       "    <tr>\n",
       "      <td>4</td>\n",
       "      <td>10249/51</td>\n",
       "      <td>10249</td>\n",
       "      <td>51</td>\n",
       "      <td>42.4</td>\n",
       "      <td>40</td>\n",
       "      <td>0.0</td>\n",
       "    </tr>\n",
       "    <tr>\n",
       "      <td>5</td>\n",
       "      <td>10250/41</td>\n",
       "      <td>10250</td>\n",
       "      <td>41</td>\n",
       "      <td>7.7</td>\n",
       "      <td>10</td>\n",
       "      <td>0.0</td>\n",
       "    </tr>\n",
       "    <tr>\n",
       "      <td>10</td>\n",
       "      <td>10251/65</td>\n",
       "      <td>10251</td>\n",
       "      <td>65</td>\n",
       "      <td>16.8</td>\n",
       "      <td>20</td>\n",
       "      <td>0.0</td>\n",
       "    </tr>\n",
       "    <tr>\n",
       "      <td>13</td>\n",
       "      <td>10252/60</td>\n",
       "      <td>10252</td>\n",
       "      <td>60</td>\n",
       "      <td>27.2</td>\n",
       "      <td>40</td>\n",
       "      <td>0.0</td>\n",
       "    </tr>\n",
       "    <tr>\n",
       "      <td>14</td>\n",
       "      <td>10253/31</td>\n",
       "      <td>10253</td>\n",
       "      <td>31</td>\n",
       "      <td>10.0</td>\n",
       "      <td>20</td>\n",
       "      <td>0.0</td>\n",
       "    </tr>\n",
       "    <tr>\n",
       "      <td>15</td>\n",
       "      <td>10253/39</td>\n",
       "      <td>10253</td>\n",
       "      <td>39</td>\n",
       "      <td>14.4</td>\n",
       "      <td>42</td>\n",
       "      <td>0.0</td>\n",
       "    </tr>\n",
       "  </tbody>\n",
       "</table>\n",
       "</div>"
      ],
      "text/plain": [
       "          Id  OrderId  ProductId  UnitPrice  Quantity  Discount\n",
       "0   10248/11    10248         11       14.0        12       0.0\n",
       "1   10248/42    10248         42        9.8        10       0.0\n",
       "2   10248/72    10248         72       34.8         5       0.0\n",
       "3   10249/14    10249         14       18.6         9       0.0\n",
       "4   10249/51    10249         51       42.4        40       0.0\n",
       "5   10250/41    10250         41        7.7        10       0.0\n",
       "10  10251/65    10251         65       16.8        20       0.0\n",
       "13  10252/60    10252         60       27.2        40       0.0\n",
       "14  10253/31    10253         31       10.0        20       0.0\n",
       "15  10253/39    10253         39       14.4        42       0.0"
      ]
     },
     "execution_count": 13,
     "metadata": {},
     "output_type": "execute_result"
    }
   ],
   "source": [
    "df_no_dis = df_od.loc[df_od['Discount'] == 0]\n",
    "\n",
    "df_no_dis.head(10)"
   ]
  },
  {
   "cell_type": "code",
   "execution_count": 14,
   "metadata": {},
   "outputs": [
    {
     "data": {
      "text/plain": [
       "0.0    1317\n",
       "Name: Discount, dtype: int64"
      ]
     },
     "execution_count": 14,
     "metadata": {},
     "output_type": "execute_result"
    }
   ],
   "source": [
    "df_no_dis['Discount'].value_counts()"
   ]
  },
  {
   "cell_type": "markdown",
   "metadata": {},
   "source": [
    "# Outlier Removal on both groups(dataframes.)"
   ]
  },
  {
   "cell_type": "markdown",
   "metadata": {},
   "source": [
    "# TBD - Multi-group outlier plotting and removal function"
   ]
  },
  {
   "cell_type": "code",
   "execution_count": 15,
   "metadata": {},
   "outputs": [
    {
     "data": {
      "text/plain": [
       "count    838.000000\n",
       "mean      27.109785\n",
       "std       20.771439\n",
       "min        1.000000\n",
       "25%       12.000000\n",
       "50%       20.000000\n",
       "75%       36.000000\n",
       "max      130.000000\n",
       "Name: Quantity, dtype: float64"
      ]
     },
     "execution_count": 15,
     "metadata": {},
     "output_type": "execute_result"
    }
   ],
   "source": [
    "df_dis['Quantity'].describe()"
   ]
  },
  {
   "cell_type": "code",
   "execution_count": 16,
   "metadata": {},
   "outputs": [
    {
     "data": {
      "text/plain": [
       "Text(0.5, 1.0, 'Distribution of Quantity sold at a Discount')"
      ]
     },
     "execution_count": 16,
     "metadata": {},
     "output_type": "execute_result"
    },
    {
     "data": {
      "image/png": "[encoded data removed]",
      "text/plain": [
       "<Figure size 432x288 with 1 Axes>"
      ]
     },
     "metadata": {
      "needs_background": "light"
     },
     "output_type": "display_data"
    }
   ],
   "source": [
    "sns.distplot(df_dis['Quantity'])\n",
    "\n",
    "ax = plt.gca()\n",
    "\n",
    "ax.set_title('Distribution of Quantity sold at a Discount')"
   ]
  },
  {
   "cell_type": "code",
   "execution_count": 17,
   "metadata": {
    "scrolled": false
   },
   "outputs": [
    {
     "data": {
      "text/plain": [
       "False    823\n",
       "True      15\n",
       "dtype: int64"
      ]
     },
     "execution_count": 17,
     "metadata": {},
     "output_type": "execute_result"
    }
   ],
   "source": [
    "idx_outs = find_outliers_Z(df_dis['Quantity'])\n",
    "idx_outs.value_counts()"
   ]
  },
  {
   "cell_type": "code",
   "execution_count": 18,
   "metadata": {},
   "outputs": [
    {
     "data": {
      "text/html": [
       "<div>\n",
       "<style scoped>\n",
       "    .dataframe tbody tr th:only-of-type {\n",
       "        vertical-align: middle;\n",
       "    }\n",
       "\n",
       "    .dataframe tbody tr th {\n",
       "        vertical-align: top;\n",
       "    }\n",
       "\n",
       "    .dataframe thead th {\n",
       "        text-align: right;\n",
       "    }\n",
       "</style>\n",
       "<table border=\"1\" class=\"dataframe\">\n",
       "  <thead>\n",
       "    <tr style=\"text-align: right;\">\n",
       "      <th></th>\n",
       "      <th>Id</th>\n",
       "      <th>OrderId</th>\n",
       "      <th>ProductId</th>\n",
       "      <th>UnitPrice</th>\n",
       "      <th>Quantity</th>\n",
       "      <th>Discount</th>\n",
       "    </tr>\n",
       "  </thead>\n",
       "  <tbody>\n",
       "    <tr>\n",
       "      <td>6</td>\n",
       "      <td>10250/51</td>\n",
       "      <td>10250</td>\n",
       "      <td>51</td>\n",
       "      <td>42.4</td>\n",
       "      <td>35</td>\n",
       "      <td>0.15</td>\n",
       "    </tr>\n",
       "    <tr>\n",
       "      <td>7</td>\n",
       "      <td>10250/65</td>\n",
       "      <td>10250</td>\n",
       "      <td>65</td>\n",
       "      <td>16.8</td>\n",
       "      <td>15</td>\n",
       "      <td>0.15</td>\n",
       "    </tr>\n",
       "    <tr>\n",
       "      <td>8</td>\n",
       "      <td>10251/22</td>\n",
       "      <td>10251</td>\n",
       "      <td>22</td>\n",
       "      <td>16.8</td>\n",
       "      <td>6</td>\n",
       "      <td>0.05</td>\n",
       "    </tr>\n",
       "    <tr>\n",
       "      <td>9</td>\n",
       "      <td>10251/57</td>\n",
       "      <td>10251</td>\n",
       "      <td>57</td>\n",
       "      <td>15.6</td>\n",
       "      <td>15</td>\n",
       "      <td>0.05</td>\n",
       "    </tr>\n",
       "    <tr>\n",
       "      <td>11</td>\n",
       "      <td>10252/20</td>\n",
       "      <td>10252</td>\n",
       "      <td>20</td>\n",
       "      <td>64.8</td>\n",
       "      <td>40</td>\n",
       "      <td>0.05</td>\n",
       "    </tr>\n",
       "    <tr>\n",
       "      <td>12</td>\n",
       "      <td>10252/33</td>\n",
       "      <td>10252</td>\n",
       "      <td>33</td>\n",
       "      <td>2.0</td>\n",
       "      <td>25</td>\n",
       "      <td>0.05</td>\n",
       "    </tr>\n",
       "    <tr>\n",
       "      <td>17</td>\n",
       "      <td>10254/24</td>\n",
       "      <td>10254</td>\n",
       "      <td>24</td>\n",
       "      <td>3.6</td>\n",
       "      <td>15</td>\n",
       "      <td>0.15</td>\n",
       "    </tr>\n",
       "    <tr>\n",
       "      <td>18</td>\n",
       "      <td>10254/55</td>\n",
       "      <td>10254</td>\n",
       "      <td>55</td>\n",
       "      <td>19.2</td>\n",
       "      <td>21</td>\n",
       "      <td>0.15</td>\n",
       "    </tr>\n",
       "    <tr>\n",
       "      <td>29</td>\n",
       "      <td>10258/2</td>\n",
       "      <td>10258</td>\n",
       "      <td>2</td>\n",
       "      <td>15.2</td>\n",
       "      <td>50</td>\n",
       "      <td>0.20</td>\n",
       "    </tr>\n",
       "    <tr>\n",
       "      <td>30</td>\n",
       "      <td>10258/5</td>\n",
       "      <td>10258</td>\n",
       "      <td>5</td>\n",
       "      <td>17.0</td>\n",
       "      <td>65</td>\n",
       "      <td>0.20</td>\n",
       "    </tr>\n",
       "  </tbody>\n",
       "</table>\n",
       "</div>"
      ],
      "text/plain": [
       "          Id  OrderId  ProductId  UnitPrice  Quantity  Discount\n",
       "6   10250/51    10250         51       42.4        35      0.15\n",
       "7   10250/65    10250         65       16.8        15      0.15\n",
       "8   10251/22    10251         22       16.8         6      0.05\n",
       "9   10251/57    10251         57       15.6        15      0.05\n",
       "11  10252/20    10252         20       64.8        40      0.05\n",
       "12  10252/33    10252         33        2.0        25      0.05\n",
       "17  10254/24    10254         24        3.6        15      0.15\n",
       "18  10254/55    10254         55       19.2        21      0.15\n",
       "29   10258/2    10258          2       15.2        50      0.20\n",
       "30   10258/5    10258          5       17.0        65      0.20"
      ]
     },
     "execution_count": 18,
     "metadata": {},
     "output_type": "execute_result"
    }
   ],
   "source": [
    "df_dis = df_dis[~idx_outs].copy()\n",
    "\n",
    "df_dis.head(10)"
   ]
  },
  {
   "cell_type": "code",
   "execution_count": 19,
   "metadata": {
    "scrolled": true
   },
   "outputs": [
    {
     "data": {
      "text/plain": [
       "823"
      ]
     },
     "execution_count": 19,
     "metadata": {},
     "output_type": "execute_result"
    }
   ],
   "source": [
    "len(df_dis)"
   ]
  },
  {
   "cell_type": "code",
   "execution_count": 20,
   "metadata": {},
   "outputs": [
    {
     "data": {
      "text/plain": [
       "count    1317.000000\n",
       "mean       21.715262\n",
       "std        17.507493\n",
       "min         1.000000\n",
       "25%        10.000000\n",
       "50%        18.000000\n",
       "75%        30.000000\n",
       "max       130.000000\n",
       "Name: Quantity, dtype: float64"
      ]
     },
     "execution_count": 20,
     "metadata": {},
     "output_type": "execute_result"
    }
   ],
   "source": [
    "df_no_dis['Quantity'].describe()"
   ]
  },
  {
   "cell_type": "code",
   "execution_count": 21,
   "metadata": {},
   "outputs": [
    {
     "data": {
      "text/plain": [
       "Text(0.5, 1.0, 'Distribution of Quantity sold without a Discount')"
      ]
     },
     "execution_count": 21,
     "metadata": {},
     "output_type": "execute_result"
    },
    {
     "data": {
      "image/png": "[encoded data removed]",
      "text/plain": [
       "<Figure size 432x288 with 1 Axes>"
      ]
     },
     "metadata": {
      "needs_background": "light"
     },
     "output_type": "display_data"
    }
   ],
   "source": [
    "sns.distplot(df_no_dis['Quantity'])\n",
    "\n",
    "ax = plt.gca()\n",
    "\n",
    "ax.set_title('Distribution of Quantity sold without a Discount')"
   ]
  },
  {
   "cell_type": "code",
   "execution_count": 22,
   "metadata": {},
   "outputs": [
    {
     "data": {
      "text/plain": [
       "False    1297\n",
       "True       20\n",
       "dtype: int64"
      ]
     },
     "execution_count": 22,
     "metadata": {},
     "output_type": "execute_result"
    }
   ],
   "source": [
    "idx_outs = find_outliers_Z(df_no_dis['Quantity'])\n",
    "idx_outs.value_counts()"
   ]
  },
  {
   "cell_type": "code",
   "execution_count": 23,
   "metadata": {
    "scrolled": true
   },
   "outputs": [
    {
     "data": {
      "text/html": [
       "<div>\n",
       "<style scoped>\n",
       "    .dataframe tbody tr th:only-of-type {\n",
       "        vertical-align: middle;\n",
       "    }\n",
       "\n",
       "    .dataframe tbody tr th {\n",
       "        vertical-align: top;\n",
       "    }\n",
       "\n",
       "    .dataframe thead th {\n",
       "        text-align: right;\n",
       "    }\n",
       "</style>\n",
       "<table border=\"1\" class=\"dataframe\">\n",
       "  <thead>\n",
       "    <tr style=\"text-align: right;\">\n",
       "      <th></th>\n",
       "      <th>Id</th>\n",
       "      <th>OrderId</th>\n",
       "      <th>ProductId</th>\n",
       "      <th>UnitPrice</th>\n",
       "      <th>Quantity</th>\n",
       "      <th>Discount</th>\n",
       "    </tr>\n",
       "  </thead>\n",
       "  <tbody>\n",
       "    <tr>\n",
       "      <td>6</td>\n",
       "      <td>10250/51</td>\n",
       "      <td>10250</td>\n",
       "      <td>51</td>\n",
       "      <td>42.4</td>\n",
       "      <td>35</td>\n",
       "      <td>0.15</td>\n",
       "    </tr>\n",
       "    <tr>\n",
       "      <td>7</td>\n",
       "      <td>10250/65</td>\n",
       "      <td>10250</td>\n",
       "      <td>65</td>\n",
       "      <td>16.8</td>\n",
       "      <td>15</td>\n",
       "      <td>0.15</td>\n",
       "    </tr>\n",
       "    <tr>\n",
       "      <td>8</td>\n",
       "      <td>10251/22</td>\n",
       "      <td>10251</td>\n",
       "      <td>22</td>\n",
       "      <td>16.8</td>\n",
       "      <td>6</td>\n",
       "      <td>0.05</td>\n",
       "    </tr>\n",
       "    <tr>\n",
       "      <td>9</td>\n",
       "      <td>10251/57</td>\n",
       "      <td>10251</td>\n",
       "      <td>57</td>\n",
       "      <td>15.6</td>\n",
       "      <td>15</td>\n",
       "      <td>0.05</td>\n",
       "    </tr>\n",
       "    <tr>\n",
       "      <td>11</td>\n",
       "      <td>10252/20</td>\n",
       "      <td>10252</td>\n",
       "      <td>20</td>\n",
       "      <td>64.8</td>\n",
       "      <td>40</td>\n",
       "      <td>0.05</td>\n",
       "    </tr>\n",
       "    <tr>\n",
       "      <td>12</td>\n",
       "      <td>10252/33</td>\n",
       "      <td>10252</td>\n",
       "      <td>33</td>\n",
       "      <td>2.0</td>\n",
       "      <td>25</td>\n",
       "      <td>0.05</td>\n",
       "    </tr>\n",
       "    <tr>\n",
       "      <td>17</td>\n",
       "      <td>10254/24</td>\n",
       "      <td>10254</td>\n",
       "      <td>24</td>\n",
       "      <td>3.6</td>\n",
       "      <td>15</td>\n",
       "      <td>0.15</td>\n",
       "    </tr>\n",
       "    <tr>\n",
       "      <td>18</td>\n",
       "      <td>10254/55</td>\n",
       "      <td>10254</td>\n",
       "      <td>55</td>\n",
       "      <td>19.2</td>\n",
       "      <td>21</td>\n",
       "      <td>0.15</td>\n",
       "    </tr>\n",
       "    <tr>\n",
       "      <td>29</td>\n",
       "      <td>10258/2</td>\n",
       "      <td>10258</td>\n",
       "      <td>2</td>\n",
       "      <td>15.2</td>\n",
       "      <td>50</td>\n",
       "      <td>0.20</td>\n",
       "    </tr>\n",
       "    <tr>\n",
       "      <td>30</td>\n",
       "      <td>10258/5</td>\n",
       "      <td>10258</td>\n",
       "      <td>5</td>\n",
       "      <td>17.0</td>\n",
       "      <td>65</td>\n",
       "      <td>0.20</td>\n",
       "    </tr>\n",
       "  </tbody>\n",
       "</table>\n",
       "</div>"
      ],
      "text/plain": [
       "          Id  OrderId  ProductId  UnitPrice  Quantity  Discount\n",
       "6   10250/51    10250         51       42.4        35      0.15\n",
       "7   10250/65    10250         65       16.8        15      0.15\n",
       "8   10251/22    10251         22       16.8         6      0.05\n",
       "9   10251/57    10251         57       15.6        15      0.05\n",
       "11  10252/20    10252         20       64.8        40      0.05\n",
       "12  10252/33    10252         33        2.0        25      0.05\n",
       "17  10254/24    10254         24        3.6        15      0.15\n",
       "18  10254/55    10254         55       19.2        21      0.15\n",
       "29   10258/2    10258          2       15.2        50      0.20\n",
       "30   10258/5    10258          5       17.0        65      0.20"
      ]
     },
     "execution_count": 23,
     "metadata": {},
     "output_type": "execute_result"
    }
   ],
   "source": [
    "df_no_dis = df_no_dis[~idx_outs].copy()\n",
    "\n",
    "df_dis.head(10)"
   ]
  },
  {
   "cell_type": "code",
   "execution_count": 24,
   "metadata": {},
   "outputs": [
    {
     "data": {
      "text/plain": [
       "1297"
      ]
     },
     "execution_count": 24,
     "metadata": {},
     "output_type": "execute_result"
    }
   ],
   "source": [
    "len(df_no_dis)"
   ]
  },
  {
   "cell_type": "markdown",
   "metadata": {},
   "source": [
    "# Normality Test for both groups"
   ]
  },
  {
   "cell_type": "markdown",
   "metadata": {},
   "source": [
    "# TBD: Multigroup Normality, Equal Variance Test function"
   ]
  },
  {
   "cell_type": "code",
   "execution_count": 25,
   "metadata": {},
   "outputs": [
    {
     "name": "stdout",
     "output_type": "stream",
     "text": [
      "p = 0\n",
      "The null hypothesis can be rejected, data does not appear to be from a normal distribution\n"
     ]
    }
   ],
   "source": [
    "normal_test(df_dis['Quantity'])"
   ]
  },
  {
   "cell_type": "code",
   "execution_count": 26,
   "metadata": {},
   "outputs": [
    {
     "name": "stdout",
     "output_type": "stream",
     "text": [
      "p = 0\n",
      "The null hypothesis can be rejected, data does not appear to be from a normal distribution\n"
     ]
    }
   ],
   "source": [
    "normal_test(df_no_dis['Quantity'])"
   ]
  },
  {
   "cell_type": "markdown",
   "metadata": {},
   "source": [
    "- The null hypothesis here is that the data comes from a normal distribution. However, \n",
    "the data is large enough to ignore assumption of normality rules."
   ]
  },
  {
   "cell_type": "markdown",
   "metadata": {},
   "source": [
    "# Equal Variance test for both groups"
   ]
  },
  {
   "cell_type": "code",
   "execution_count": 27,
   "metadata": {
    "scrolled": true
   },
   "outputs": [
    {
     "name": "stdout",
     "output_type": "stream",
     "text": [
      "p = 0\n",
      "The null hypothesis can be rejected, data does not appear to have equal variance.\n"
     ]
    }
   ],
   "source": [
    "variance_test(df_dis['Quantity'],df_no_dis['Quantity'])"
   ]
  },
  {
   "cell_type": "markdown",
   "metadata": {},
   "source": [
    "# Welch's T-Test: Hypothesis 1"
   ]
  },
  {
   "cell_type": "code",
   "execution_count": 28,
   "metadata": {},
   "outputs": [
    {
     "name": "stdout",
     "output_type": "stream",
     "text": [
      "Statistics=7.181, p=0.000\n",
      "The null hypothesis can be rejected, data appears to be from differing distributions.\n"
     ]
    }
   ],
   "source": [
    "t_test(df_dis['Quantity'],df_no_dis['Quantity'], equal_var=False)"
   ]
  },
  {
   "cell_type": "markdown",
   "metadata": {},
   "source": [
    "# Post-hoc Tests, Recommendations, and Summary: Hypothesis 1"
   ]
  },
  {
   "cell_type": "code",
   "execution_count": 29,
   "metadata": {},
   "outputs": [
    {
     "data": {
      "text/plain": [
       "0.32001140965727837"
      ]
     },
     "execution_count": 29,
     "metadata": {},
     "output_type": "execute_result"
    }
   ],
   "source": [
    "Cohen_d(df_dis['Quantity'],df_no_dis['Quantity'])"
   ]
  },
  {
   "cell_type": "markdown",
   "metadata": {},
   "source": [
    "##  Cohen's D suggests a small effect size"
   ]
  },
  {
   "cell_type": "code",
   "execution_count": 30,
   "metadata": {},
   "outputs": [],
   "source": [
    "df_dis['DiscountApplied'] = 'True'\n",
    "df_no_dis['DiscountApplied'] = \"False\""
   ]
  },
  {
   "cell_type": "code",
   "execution_count": 31,
   "metadata": {},
   "outputs": [
    {
     "data": {
      "text/html": [
       "<div>\n",
       "<style scoped>\n",
       "    .dataframe tbody tr th:only-of-type {\n",
       "        vertical-align: middle;\n",
       "    }\n",
       "\n",
       "    .dataframe tbody tr th {\n",
       "        vertical-align: top;\n",
       "    }\n",
       "\n",
       "    .dataframe thead th {\n",
       "        text-align: right;\n",
       "    }\n",
       "</style>\n",
       "<table border=\"1\" class=\"dataframe\">\n",
       "  <thead>\n",
       "    <tr style=\"text-align: right;\">\n",
       "      <th></th>\n",
       "      <th>Id</th>\n",
       "      <th>OrderId</th>\n",
       "      <th>ProductId</th>\n",
       "      <th>UnitPrice</th>\n",
       "      <th>Quantity</th>\n",
       "      <th>Discount</th>\n",
       "      <th>DiscountApplied</th>\n",
       "    </tr>\n",
       "  </thead>\n",
       "  <tbody>\n",
       "    <tr>\n",
       "      <td>6</td>\n",
       "      <td>10250/51</td>\n",
       "      <td>10250</td>\n",
       "      <td>51</td>\n",
       "      <td>42.4</td>\n",
       "      <td>35</td>\n",
       "      <td>0.15</td>\n",
       "      <td>True</td>\n",
       "    </tr>\n",
       "    <tr>\n",
       "      <td>7</td>\n",
       "      <td>10250/65</td>\n",
       "      <td>10250</td>\n",
       "      <td>65</td>\n",
       "      <td>16.8</td>\n",
       "      <td>15</td>\n",
       "      <td>0.15</td>\n",
       "      <td>True</td>\n",
       "    </tr>\n",
       "    <tr>\n",
       "      <td>8</td>\n",
       "      <td>10251/22</td>\n",
       "      <td>10251</td>\n",
       "      <td>22</td>\n",
       "      <td>16.8</td>\n",
       "      <td>6</td>\n",
       "      <td>0.05</td>\n",
       "      <td>True</td>\n",
       "    </tr>\n",
       "    <tr>\n",
       "      <td>9</td>\n",
       "      <td>10251/57</td>\n",
       "      <td>10251</td>\n",
       "      <td>57</td>\n",
       "      <td>15.6</td>\n",
       "      <td>15</td>\n",
       "      <td>0.05</td>\n",
       "      <td>True</td>\n",
       "    </tr>\n",
       "    <tr>\n",
       "      <td>11</td>\n",
       "      <td>10252/20</td>\n",
       "      <td>10252</td>\n",
       "      <td>20</td>\n",
       "      <td>64.8</td>\n",
       "      <td>40</td>\n",
       "      <td>0.05</td>\n",
       "      <td>True</td>\n",
       "    </tr>\n",
       "    <tr>\n",
       "      <td>12</td>\n",
       "      <td>10252/33</td>\n",
       "      <td>10252</td>\n",
       "      <td>33</td>\n",
       "      <td>2.0</td>\n",
       "      <td>25</td>\n",
       "      <td>0.05</td>\n",
       "      <td>True</td>\n",
       "    </tr>\n",
       "    <tr>\n",
       "      <td>17</td>\n",
       "      <td>10254/24</td>\n",
       "      <td>10254</td>\n",
       "      <td>24</td>\n",
       "      <td>3.6</td>\n",
       "      <td>15</td>\n",
       "      <td>0.15</td>\n",
       "      <td>True</td>\n",
       "    </tr>\n",
       "    <tr>\n",
       "      <td>18</td>\n",
       "      <td>10254/55</td>\n",
       "      <td>10254</td>\n",
       "      <td>55</td>\n",
       "      <td>19.2</td>\n",
       "      <td>21</td>\n",
       "      <td>0.15</td>\n",
       "      <td>True</td>\n",
       "    </tr>\n",
       "    <tr>\n",
       "      <td>29</td>\n",
       "      <td>10258/2</td>\n",
       "      <td>10258</td>\n",
       "      <td>2</td>\n",
       "      <td>15.2</td>\n",
       "      <td>50</td>\n",
       "      <td>0.20</td>\n",
       "      <td>True</td>\n",
       "    </tr>\n",
       "    <tr>\n",
       "      <td>30</td>\n",
       "      <td>10258/5</td>\n",
       "      <td>10258</td>\n",
       "      <td>5</td>\n",
       "      <td>17.0</td>\n",
       "      <td>65</td>\n",
       "      <td>0.20</td>\n",
       "      <td>True</td>\n",
       "    </tr>\n",
       "  </tbody>\n",
       "</table>\n",
       "</div>"
      ],
      "text/plain": [
       "          Id  OrderId  ProductId  UnitPrice  Quantity  Discount  \\\n",
       "6   10250/51    10250         51       42.4        35      0.15   \n",
       "7   10250/65    10250         65       16.8        15      0.15   \n",
       "8   10251/22    10251         22       16.8         6      0.05   \n",
       "9   10251/57    10251         57       15.6        15      0.05   \n",
       "11  10252/20    10252         20       64.8        40      0.05   \n",
       "12  10252/33    10252         33        2.0        25      0.05   \n",
       "17  10254/24    10254         24        3.6        15      0.15   \n",
       "18  10254/55    10254         55       19.2        21      0.15   \n",
       "29   10258/2    10258          2       15.2        50      0.20   \n",
       "30   10258/5    10258          5       17.0        65      0.20   \n",
       "\n",
       "   DiscountApplied  \n",
       "6             True  \n",
       "7             True  \n",
       "8             True  \n",
       "9             True  \n",
       "11            True  \n",
       "12            True  \n",
       "17            True  \n",
       "18            True  \n",
       "29            True  \n",
       "30            True  "
      ]
     },
     "execution_count": 31,
     "metadata": {},
     "output_type": "execute_result"
    }
   ],
   "source": [
    "df_dis_conc = df_dis.append(df_no_dis)\n",
    "\n",
    "df_dis_conc.head(10)"
   ]
  },
  {
   "cell_type": "code",
   "execution_count": 32,
   "metadata": {},
   "outputs": [
    {
     "data": {
      "text/html": [
       "<div>\n",
       "<style scoped>\n",
       "    .dataframe tbody tr th:only-of-type {\n",
       "        vertical-align: middle;\n",
       "    }\n",
       "\n",
       "    .dataframe tbody tr th {\n",
       "        vertical-align: top;\n",
       "    }\n",
       "\n",
       "    .dataframe thead th {\n",
       "        text-align: right;\n",
       "    }\n",
       "</style>\n",
       "<table border=\"1\" class=\"dataframe\">\n",
       "  <thead>\n",
       "    <tr style=\"text-align: right;\">\n",
       "      <th></th>\n",
       "      <th>Id</th>\n",
       "      <th>OrderId</th>\n",
       "      <th>ProductId</th>\n",
       "      <th>UnitPrice</th>\n",
       "      <th>Quantity</th>\n",
       "      <th>Discount</th>\n",
       "      <th>DiscountApplied</th>\n",
       "    </tr>\n",
       "  </thead>\n",
       "  <tbody>\n",
       "    <tr>\n",
       "      <td>2136</td>\n",
       "      <td>11077/10</td>\n",
       "      <td>11077</td>\n",
       "      <td>10</td>\n",
       "      <td>31.00</td>\n",
       "      <td>1</td>\n",
       "      <td>0.0</td>\n",
       "      <td>False</td>\n",
       "    </tr>\n",
       "    <tr>\n",
       "      <td>2138</td>\n",
       "      <td>11077/13</td>\n",
       "      <td>11077</td>\n",
       "      <td>13</td>\n",
       "      <td>6.00</td>\n",
       "      <td>4</td>\n",
       "      <td>0.0</td>\n",
       "      <td>False</td>\n",
       "    </tr>\n",
       "    <tr>\n",
       "      <td>2142</td>\n",
       "      <td>11077/23</td>\n",
       "      <td>11077</td>\n",
       "      <td>23</td>\n",
       "      <td>9.00</td>\n",
       "      <td>2</td>\n",
       "      <td>0.0</td>\n",
       "      <td>False</td>\n",
       "    </tr>\n",
       "    <tr>\n",
       "      <td>2143</td>\n",
       "      <td>11077/32</td>\n",
       "      <td>11077</td>\n",
       "      <td>32</td>\n",
       "      <td>32.00</td>\n",
       "      <td>1</td>\n",
       "      <td>0.0</td>\n",
       "      <td>False</td>\n",
       "    </tr>\n",
       "    <tr>\n",
       "      <td>2145</td>\n",
       "      <td>11077/41</td>\n",
       "      <td>11077</td>\n",
       "      <td>41</td>\n",
       "      <td>9.65</td>\n",
       "      <td>3</td>\n",
       "      <td>0.0</td>\n",
       "      <td>False</td>\n",
       "    </tr>\n",
       "    <tr>\n",
       "      <td>2147</td>\n",
       "      <td>11077/52</td>\n",
       "      <td>11077</td>\n",
       "      <td>52</td>\n",
       "      <td>7.00</td>\n",
       "      <td>2</td>\n",
       "      <td>0.0</td>\n",
       "      <td>False</td>\n",
       "    </tr>\n",
       "    <tr>\n",
       "      <td>2148</td>\n",
       "      <td>11077/55</td>\n",
       "      <td>11077</td>\n",
       "      <td>55</td>\n",
       "      <td>24.00</td>\n",
       "      <td>2</td>\n",
       "      <td>0.0</td>\n",
       "      <td>False</td>\n",
       "    </tr>\n",
       "    <tr>\n",
       "      <td>2151</td>\n",
       "      <td>11077/66</td>\n",
       "      <td>11077</td>\n",
       "      <td>66</td>\n",
       "      <td>17.00</td>\n",
       "      <td>1</td>\n",
       "      <td>0.0</td>\n",
       "      <td>False</td>\n",
       "    </tr>\n",
       "    <tr>\n",
       "      <td>2153</td>\n",
       "      <td>11077/75</td>\n",
       "      <td>11077</td>\n",
       "      <td>75</td>\n",
       "      <td>7.75</td>\n",
       "      <td>4</td>\n",
       "      <td>0.0</td>\n",
       "      <td>False</td>\n",
       "    </tr>\n",
       "    <tr>\n",
       "      <td>2154</td>\n",
       "      <td>11077/77</td>\n",
       "      <td>11077</td>\n",
       "      <td>77</td>\n",
       "      <td>13.00</td>\n",
       "      <td>2</td>\n",
       "      <td>0.0</td>\n",
       "      <td>False</td>\n",
       "    </tr>\n",
       "  </tbody>\n",
       "</table>\n",
       "</div>"
      ],
      "text/plain": [
       "            Id  OrderId  ProductId  UnitPrice  Quantity  Discount  \\\n",
       "2136  11077/10    11077         10      31.00         1       0.0   \n",
       "2138  11077/13    11077         13       6.00         4       0.0   \n",
       "2142  11077/23    11077         23       9.00         2       0.0   \n",
       "2143  11077/32    11077         32      32.00         1       0.0   \n",
       "2145  11077/41    11077         41       9.65         3       0.0   \n",
       "2147  11077/52    11077         52       7.00         2       0.0   \n",
       "2148  11077/55    11077         55      24.00         2       0.0   \n",
       "2151  11077/66    11077         66      17.00         1       0.0   \n",
       "2153  11077/75    11077         75       7.75         4       0.0   \n",
       "2154  11077/77    11077         77      13.00         2       0.0   \n",
       "\n",
       "     DiscountApplied  \n",
       "2136           False  \n",
       "2138           False  \n",
       "2142           False  \n",
       "2143           False  \n",
       "2145           False  \n",
       "2147           False  \n",
       "2148           False  \n",
       "2151           False  \n",
       "2153           False  \n",
       "2154           False  "
      ]
     },
     "execution_count": 32,
     "metadata": {},
     "output_type": "execute_result"
    }
   ],
   "source": [
    "df_dis_conc.tail(10)"
   ]
  },
  {
   "cell_type": "code",
   "execution_count": 33,
   "metadata": {
    "scrolled": true
   },
   "outputs": [
    {
     "data": {
      "text/plain": [
       "Id                  object\n",
       "OrderId              int64\n",
       "ProductId            int64\n",
       "UnitPrice          float64\n",
       "Quantity             int64\n",
       "Discount           float64\n",
       "DiscountApplied     object\n",
       "dtype: object"
      ]
     },
     "execution_count": 33,
     "metadata": {},
     "output_type": "execute_result"
    }
   ],
   "source": [
    "df_dis_conc.dtypes"
   ]
  },
  {
   "cell_type": "code",
   "execution_count": 34,
   "metadata": {
    "scrolled": false
   },
   "outputs": [
    {
     "data": {
      "text/plain": [
       "0.00    1297\n",
       "0.05     181\n",
       "0.10     170\n",
       "0.20     159\n",
       "0.15     154\n",
       "0.25     151\n",
       "0.03       3\n",
       "0.02       2\n",
       "0.01       1\n",
       "0.04       1\n",
       "0.06       1\n",
       "Name: Discount, dtype: int64"
      ]
     },
     "execution_count": 34,
     "metadata": {},
     "output_type": "execute_result"
    }
   ],
   "source": [
    "df_dis_conc.Discount.value_counts()"
   ]
  },
  {
   "cell_type": "markdown",
   "metadata": {},
   "source": [
    "# Tukey range test: Hypothesis 1"
   ]
  },
  {
   "cell_type": "code",
   "execution_count": 35,
   "metadata": {},
   "outputs": [
    {
     "name": "stdout",
     "output_type": "stream",
     "text": [
      " Multiple Comparison of Means - Tukey HSD, FWER=0.05 \n",
      "=====================================================\n",
      "group1 group2 meandiff p-adj   lower    upper  reject\n",
      "-----------------------------------------------------\n",
      "   0.0   0.01 -18.5405    0.9 -69.9335 32.8526  False\n",
      "   0.0   0.02 -18.5405 0.8499 -54.8948 17.8139  False\n",
      "   0.0   0.03 -18.8738 0.5986 -48.5684 10.8208  False\n",
      "   0.0   0.04 -19.5405    0.9 -70.9335 31.8526  False\n",
      "   0.0   0.05   5.7137  0.001   1.6374    9.79   True\n",
      "   0.0   0.06 -18.5405    0.9 -69.9335 32.8526  False\n",
      "   0.0    0.1   2.9654 0.4514   -1.225  7.1558  False\n",
      "   0.0   0.15   6.5115  0.001   2.1328 10.8901   True\n",
      "   0.0    0.2   5.6293 0.0014   1.3127   9.946   True\n",
      "   0.0   0.25   6.1416  0.001   1.7243  10.559   True\n",
      "  0.01   0.02      0.0    0.9 -62.9191 62.9191  False\n",
      "  0.01   0.03  -0.3333    0.9  -59.654 58.9874  False\n",
      "  0.01   0.04     -1.0    0.9 -73.6527 71.6527  False\n",
      "  0.01   0.05  24.2541    0.9 -27.2608 75.7691  False\n",
      "  0.01   0.06      0.0    0.9 -72.6527 72.6527  False\n",
      "  0.01    0.1  21.5059    0.9 -30.0182   73.03  False\n",
      "  0.01   0.15  25.0519 0.8978 -26.4878 76.5917  False\n",
      "  0.01    0.2  24.1698    0.9 -27.3647 75.7043  False\n",
      "  0.01   0.25  24.6821    0.9 -26.8609 76.2252  False\n",
      "  0.02   0.03  -0.3333    0.9 -47.2305 46.5638  False\n",
      "  0.02   0.04     -1.0    0.9 -63.9191 61.9191  False\n",
      "  0.02   0.05  24.2541 0.5417 -12.2724 60.7807  False\n",
      "  0.02   0.06      0.0    0.9 -62.9191 62.9191  False\n",
      "  0.02    0.1  21.5059 0.6927 -15.0335 58.0453  False\n",
      "  0.02   0.15  25.0519 0.4993 -11.5095 61.6134  False\n",
      "  0.02    0.2  24.1698 0.5473 -12.3843 60.7239  False\n",
      "  0.02   0.25  24.6821 0.5197  -11.884 61.2483  False\n",
      "  0.03   0.04  -0.6667    0.9 -59.9874  58.654  False\n",
      "  0.03   0.05  24.5875 0.2244  -5.3177 54.4926  False\n",
      "  0.03   0.06   0.3333    0.9 -58.9874  59.654  False\n",
      "  0.03    0.1  21.8392 0.4018  -8.0817 51.7601  False\n",
      "  0.03   0.15  25.3853 0.1863  -4.5626 55.3331  False\n",
      "  0.03    0.2  24.5031 0.2304  -5.4357  54.442  False\n",
      "  0.03   0.25  25.0155 0.2045  -4.9381  54.969  False\n",
      "  0.04   0.05  25.2541 0.8895 -26.2608 76.7691  False\n",
      "  0.04   0.06      1.0    0.9 -71.6527 73.6527  False\n",
      "  0.04    0.1  22.5059    0.9 -29.0182   74.03  False\n",
      "  0.04   0.15  26.0519  0.859 -25.4878 77.5917  False\n",
      "  0.04    0.2  25.1698 0.8931 -26.3647 76.7043  False\n",
      "  0.04   0.25  25.6821 0.8734 -25.8609 77.2252  False\n",
      "  0.05   0.06 -24.2541    0.9 -75.7691 27.2608  False\n",
      "  0.05    0.1  -2.7483 0.8682  -8.2352  2.7386  False\n",
      "  0.05   0.15   0.7978    0.9  -4.8342  6.4298  False\n",
      "  0.05    0.2  -0.0843    0.9  -5.6682  5.4996  False\n",
      "  0.05   0.25    0.428    0.9  -5.2341  6.0901  False\n",
      "  0.06    0.1  21.5059    0.9 -30.0182   73.03  False\n",
      "  0.06   0.15  25.0519 0.8978 -26.4878 76.5917  False\n",
      "  0.06    0.2  24.1698    0.9 -27.3647 75.7043  False\n",
      "  0.06   0.25  24.6821    0.9 -26.8609 76.2252  False\n",
      "   0.1   0.15   3.5461 0.6289   -2.169  9.2612  False\n",
      "   0.1    0.2   2.6639    0.9  -3.0038  8.3317  False\n",
      "   0.1   0.25   3.1762 0.7641  -2.5686  8.9211  False\n",
      "  0.15    0.2  -0.8821    0.9  -6.6905  4.9262  False\n",
      "  0.15   0.25  -0.3698    0.9  -6.2534  5.5137  False\n",
      "   0.2   0.25   0.5123    0.9  -5.3252  6.3499  False\n",
      "-----------------------------------------------------\n",
      "[0.   0.01 0.02 0.03 0.04 0.05 0.06 0.1  0.15 0.2  0.25]\n"
     ]
    }
   ],
   "source": [
    "tukey_test(df_dis_conc['Quantity'], df_dis_conc['Discount'])"
   ]
  },
  {
   "cell_type": "markdown",
   "metadata": {},
   "source": [
    "## Bar Chart: Hypothesis 1"
   ]
  },
  {
   "cell_type": "code",
   "execution_count": 36,
   "metadata": {
    "scrolled": false
   },
   "outputs": [
    {
     "data": {
      "text/plain": [
       "Text(0.5, 1.0, 'Quantity of Product sold at varying discount levels')"
      ]
     },
     "execution_count": 36,
     "metadata": {},
     "output_type": "execute_result"
    },
    {
     "data": {
      "image/png": "[encoded data removed]",
      "text/plain": [
       "<Figure size 432x288 with 1 Axes>"
      ]
     },
     "metadata": {
      "needs_background": "light"
     },
     "output_type": "display_data"
    }
   ],
   "source": [
    "sns.barplot(data=df_dis_conc, x=\"Discount\", y=\"Quantity\", ci=68)\n",
    "\n",
    "ax = plt.gca()\n",
    "\n",
    "ax.set_title('Quantity of Product sold at varying discount levels')"
   ]
  },
  {
   "cell_type": "markdown",
   "metadata": {},
   "source": [
    "## Catplot: Hypothesis 1"
   ]
  },
  {
   "cell_type": "code",
   "execution_count": 37,
   "metadata": {},
   "outputs": [
    {
     "data": {
      "text/plain": [
       "Text(0.5, 1, 'Quantity of Product sold at varying discount levels')"
      ]
     },
     "execution_count": 37,
     "metadata": {},
     "output_type": "execute_result"
    },
    {
     "data": {
      "image/png": "[encoded data removed]",
      "text/plain": [
       "<Figure size 360x360 with 1 Axes>"
      ]
     },
     "metadata": {
      "needs_background": "light"
     },
     "output_type": "display_data"
    }
   ],
   "source": [
    "sns.catplot(data=df_dis_conc, x=\"Discount\", y=\"Quantity\")\n",
    "\n",
    "ax = plt.gca()\n",
    "\n",
    "ax.set_title('Quantity of Product sold at varying discount levels')"
   ]
  },
  {
   "cell_type": "markdown",
   "metadata": {},
   "source": [
    "# TBD: Recommendations and Summary: Hypothesis 1 \n",
    "## TL;DR: .05 is the lowest maximal discount given that discounts are significant, beyond that, why offer more?"
   ]
  },
  {
   "cell_type": "markdown",
   "metadata": {},
   "source": [
    "# Hypothesis 2: \n",
    "- Is there an effect on discounts given by an employee's hire date being in 2026 or not?\n",
    "- Null Hypothesis: \n",
    "- Alternative Hypothesis:"
   ]
  },
  {
   "cell_type": "markdown",
   "metadata": {},
   "source": [
    "## TBD: Add Null and Alternative"
   ]
  },
  {
   "cell_type": "markdown",
   "metadata": {},
   "source": [
    "# Getting the data of employee hire date and order discounts by employee and manipulating it"
   ]
  },
  {
   "cell_type": "code",
   "execution_count": 38,
   "metadata": {},
   "outputs": [
    {
     "data": {
      "text/html": [
       "<div>\n",
       "<style scoped>\n",
       "    .dataframe tbody tr th:only-of-type {\n",
       "        vertical-align: middle;\n",
       "    }\n",
       "\n",
       "    .dataframe tbody tr th {\n",
       "        vertical-align: top;\n",
       "    }\n",
       "\n",
       "    .dataframe thead th {\n",
       "        text-align: right;\n",
       "    }\n",
       "</style>\n",
       "<table border=\"1\" class=\"dataframe\">\n",
       "  <thead>\n",
       "    <tr style=\"text-align: right;\">\n",
       "      <th></th>\n",
       "      <th>HireDate</th>\n",
       "      <th>Discount</th>\n",
       "    </tr>\n",
       "  </thead>\n",
       "  <tbody>\n",
       "    <tr>\n",
       "      <td>0</td>\n",
       "      <td>2025-10-17</td>\n",
       "      <td>0.00</td>\n",
       "    </tr>\n",
       "    <tr>\n",
       "      <td>1</td>\n",
       "      <td>2025-10-17</td>\n",
       "      <td>0.00</td>\n",
       "    </tr>\n",
       "    <tr>\n",
       "      <td>2</td>\n",
       "      <td>2025-10-17</td>\n",
       "      <td>0.00</td>\n",
       "    </tr>\n",
       "    <tr>\n",
       "      <td>3</td>\n",
       "      <td>2025-10-17</td>\n",
       "      <td>0.00</td>\n",
       "    </tr>\n",
       "    <tr>\n",
       "      <td>4</td>\n",
       "      <td>2025-10-17</td>\n",
       "      <td>0.00</td>\n",
       "    </tr>\n",
       "    <tr>\n",
       "      <td>5</td>\n",
       "      <td>2025-05-03</td>\n",
       "      <td>0.00</td>\n",
       "    </tr>\n",
       "    <tr>\n",
       "      <td>6</td>\n",
       "      <td>2025-05-03</td>\n",
       "      <td>0.15</td>\n",
       "    </tr>\n",
       "    <tr>\n",
       "      <td>7</td>\n",
       "      <td>2025-05-03</td>\n",
       "      <td>0.15</td>\n",
       "    </tr>\n",
       "    <tr>\n",
       "      <td>8</td>\n",
       "      <td>2024-04-01</td>\n",
       "      <td>0.05</td>\n",
       "    </tr>\n",
       "    <tr>\n",
       "      <td>9</td>\n",
       "      <td>2024-04-01</td>\n",
       "      <td>0.05</td>\n",
       "    </tr>\n",
       "  </tbody>\n",
       "</table>\n",
       "</div>"
      ],
      "text/plain": [
       "     HireDate  Discount\n",
       "0  2025-10-17      0.00\n",
       "1  2025-10-17      0.00\n",
       "2  2025-10-17      0.00\n",
       "3  2025-10-17      0.00\n",
       "4  2025-10-17      0.00\n",
       "5  2025-05-03      0.00\n",
       "6  2025-05-03      0.15\n",
       "7  2025-05-03      0.15\n",
       "8  2024-04-01      0.05\n",
       "9  2024-04-01      0.05"
      ]
     },
     "execution_count": 38,
     "metadata": {},
     "output_type": "execute_result"
    }
   ],
   "source": [
    "c.execute(\"\"\"SELECT E.HireDate, OD.Discount\n",
    "             FROM Employee E JOIN `Order` O \n",
    "                              ON E.Id = O.EmployeeID\n",
    "                              JOIN OrderDetail OD \n",
    "                              ON OD.OrderID = O.Id;\"\"\")\n",
    "df_hire = pd.DataFrame(c.fetchall())\n",
    "df_hire.columns = [x[0] for x in c.description]\n",
    "df_hire.head(10)"
   ]
  },
  {
   "cell_type": "code",
   "execution_count": 39,
   "metadata": {},
   "outputs": [
    {
     "data": {
      "text/plain": [
       "2155"
      ]
     },
     "execution_count": 39,
     "metadata": {},
     "output_type": "execute_result"
    }
   ],
   "source": [
    "len(df_hire)"
   ]
  },
  {
   "cell_type": "code",
   "execution_count": 40,
   "metadata": {},
   "outputs": [
    {
     "data": {
      "text/plain": [
       "2024-04-01    321\n",
       "2024-05-01    345\n",
       "2024-08-14    241\n",
       "2025-05-03    420\n",
       "2025-10-17    285\n",
       "2026-01-02    176\n",
       "2026-03-05    260\n",
       "2026-11-15    107\n",
       "Name: HireDate, dtype: int64"
      ]
     },
     "execution_count": 40,
     "metadata": {},
     "output_type": "execute_result"
    }
   ],
   "source": [
    "df_hire['HireDate'].value_counts().sort_index()"
   ]
  },
  {
   "cell_type": "markdown",
   "metadata": {},
   "source": [
    "## Defining recent hires as 2026, all other hires(2025, 2024) are in the other group."
   ]
  },
  {
   "cell_type": "code",
   "execution_count": 41,
   "metadata": {},
   "outputs": [
    {
     "data": {
      "text/plain": [
       "2026-01-02    176\n",
       "2026-03-05    260\n",
       "2026-11-15    107\n",
       "Name: HireDate, dtype: int64"
      ]
     },
     "execution_count": 41,
     "metadata": {},
     "output_type": "execute_result"
    }
   ],
   "source": [
    "df_recent_hire = df_hire.loc[df_hire['HireDate'] > '2026' ]\n",
    "\n",
    "df_recent_hire['HireDate'].value_counts().sort_index()"
   ]
  },
  {
   "cell_type": "code",
   "execution_count": 42,
   "metadata": {},
   "outputs": [
    {
     "data": {
      "text/html": [
       "<div>\n",
       "<style scoped>\n",
       "    .dataframe tbody tr th:only-of-type {\n",
       "        vertical-align: middle;\n",
       "    }\n",
       "\n",
       "    .dataframe tbody tr th {\n",
       "        vertical-align: top;\n",
       "    }\n",
       "\n",
       "    .dataframe thead th {\n",
       "        text-align: right;\n",
       "    }\n",
       "</style>\n",
       "<table border=\"1\" class=\"dataframe\">\n",
       "  <thead>\n",
       "    <tr style=\"text-align: right;\">\n",
       "      <th></th>\n",
       "      <th>HireDate</th>\n",
       "      <th>Discount</th>\n",
       "    </tr>\n",
       "  </thead>\n",
       "  <tbody>\n",
       "    <tr>\n",
       "      <td>20</td>\n",
       "      <td>2026-11-15</td>\n",
       "      <td>0.00</td>\n",
       "    </tr>\n",
       "    <tr>\n",
       "      <td>21</td>\n",
       "      <td>2026-11-15</td>\n",
       "      <td>0.00</td>\n",
       "    </tr>\n",
       "    <tr>\n",
       "      <td>22</td>\n",
       "      <td>2026-11-15</td>\n",
       "      <td>0.00</td>\n",
       "    </tr>\n",
       "    <tr>\n",
       "      <td>23</td>\n",
       "      <td>2026-11-15</td>\n",
       "      <td>0.00</td>\n",
       "    </tr>\n",
       "    <tr>\n",
       "      <td>40</td>\n",
       "      <td>2026-03-05</td>\n",
       "      <td>0.20</td>\n",
       "    </tr>\n",
       "    <tr>\n",
       "      <td>41</td>\n",
       "      <td>2026-03-05</td>\n",
       "      <td>0.00</td>\n",
       "    </tr>\n",
       "    <tr>\n",
       "      <td>42</td>\n",
       "      <td>2026-03-05</td>\n",
       "      <td>0.00</td>\n",
       "    </tr>\n",
       "    <tr>\n",
       "      <td>43</td>\n",
       "      <td>2026-11-15</td>\n",
       "      <td>0.25</td>\n",
       "    </tr>\n",
       "    <tr>\n",
       "      <td>44</td>\n",
       "      <td>2026-11-15</td>\n",
       "      <td>0.00</td>\n",
       "    </tr>\n",
       "    <tr>\n",
       "      <td>45</td>\n",
       "      <td>2026-11-15</td>\n",
       "      <td>0.25</td>\n",
       "    </tr>\n",
       "  </tbody>\n",
       "</table>\n",
       "</div>"
      ],
      "text/plain": [
       "      HireDate  Discount\n",
       "20  2026-11-15      0.00\n",
       "21  2026-11-15      0.00\n",
       "22  2026-11-15      0.00\n",
       "23  2026-11-15      0.00\n",
       "40  2026-03-05      0.20\n",
       "41  2026-03-05      0.00\n",
       "42  2026-03-05      0.00\n",
       "43  2026-11-15      0.25\n",
       "44  2026-11-15      0.00\n",
       "45  2026-11-15      0.25"
      ]
     },
     "execution_count": 42,
     "metadata": {},
     "output_type": "execute_result"
    }
   ],
   "source": [
    "df_recent_hire.head(10)"
   ]
  },
  {
   "cell_type": "code",
   "execution_count": 43,
   "metadata": {},
   "outputs": [
    {
     "data": {
      "text/plain": [
       "2024-04-01    321\n",
       "2024-05-01    345\n",
       "2024-08-14    241\n",
       "2025-05-03    420\n",
       "2025-10-17    285\n",
       "Name: HireDate, dtype: int64"
      ]
     },
     "execution_count": 43,
     "metadata": {},
     "output_type": "execute_result"
    }
   ],
   "source": [
    "df_old_hire = df_hire.loc[df_hire['HireDate'] < '2026']\n",
    "\n",
    "df_old_hire['HireDate'].value_counts().sort_index()"
   ]
  },
  {
   "cell_type": "code",
   "execution_count": 44,
   "metadata": {},
   "outputs": [
    {
     "data": {
      "text/html": [
       "<div>\n",
       "<style scoped>\n",
       "    .dataframe tbody tr th:only-of-type {\n",
       "        vertical-align: middle;\n",
       "    }\n",
       "\n",
       "    .dataframe tbody tr th {\n",
       "        vertical-align: top;\n",
       "    }\n",
       "\n",
       "    .dataframe thead th {\n",
       "        text-align: right;\n",
       "    }\n",
       "</style>\n",
       "<table border=\"1\" class=\"dataframe\">\n",
       "  <thead>\n",
       "    <tr style=\"text-align: right;\">\n",
       "      <th></th>\n",
       "      <th>HireDate</th>\n",
       "      <th>Discount</th>\n",
       "    </tr>\n",
       "  </thead>\n",
       "  <tbody>\n",
       "    <tr>\n",
       "      <td>0</td>\n",
       "      <td>2025-10-17</td>\n",
       "      <td>0.00</td>\n",
       "    </tr>\n",
       "    <tr>\n",
       "      <td>1</td>\n",
       "      <td>2025-10-17</td>\n",
       "      <td>0.00</td>\n",
       "    </tr>\n",
       "    <tr>\n",
       "      <td>2</td>\n",
       "      <td>2025-10-17</td>\n",
       "      <td>0.00</td>\n",
       "    </tr>\n",
       "    <tr>\n",
       "      <td>3</td>\n",
       "      <td>2025-10-17</td>\n",
       "      <td>0.00</td>\n",
       "    </tr>\n",
       "    <tr>\n",
       "      <td>4</td>\n",
       "      <td>2025-10-17</td>\n",
       "      <td>0.00</td>\n",
       "    </tr>\n",
       "    <tr>\n",
       "      <td>5</td>\n",
       "      <td>2025-05-03</td>\n",
       "      <td>0.00</td>\n",
       "    </tr>\n",
       "    <tr>\n",
       "      <td>6</td>\n",
       "      <td>2025-05-03</td>\n",
       "      <td>0.15</td>\n",
       "    </tr>\n",
       "    <tr>\n",
       "      <td>7</td>\n",
       "      <td>2025-05-03</td>\n",
       "      <td>0.15</td>\n",
       "    </tr>\n",
       "    <tr>\n",
       "      <td>8</td>\n",
       "      <td>2024-04-01</td>\n",
       "      <td>0.05</td>\n",
       "    </tr>\n",
       "    <tr>\n",
       "      <td>9</td>\n",
       "      <td>2024-04-01</td>\n",
       "      <td>0.05</td>\n",
       "    </tr>\n",
       "  </tbody>\n",
       "</table>\n",
       "</div>"
      ],
      "text/plain": [
       "     HireDate  Discount\n",
       "0  2025-10-17      0.00\n",
       "1  2025-10-17      0.00\n",
       "2  2025-10-17      0.00\n",
       "3  2025-10-17      0.00\n",
       "4  2025-10-17      0.00\n",
       "5  2025-05-03      0.00\n",
       "6  2025-05-03      0.15\n",
       "7  2025-05-03      0.15\n",
       "8  2024-04-01      0.05\n",
       "9  2024-04-01      0.05"
      ]
     },
     "execution_count": 44,
     "metadata": {},
     "output_type": "execute_result"
    }
   ],
   "source": [
    "df_old_hire.head(10)"
   ]
  },
  {
   "cell_type": "markdown",
   "metadata": {},
   "source": [
    "# Outlier Removal: Hypothesis 2"
   ]
  },
  {
   "cell_type": "code",
   "execution_count": 45,
   "metadata": {},
   "outputs": [
    {
     "data": {
      "text/plain": [
       "Text(0.5, 1.0, 'Distribution of Discounts on orders with Recent Hires')"
      ]
     },
     "execution_count": 45,
     "metadata": {},
     "output_type": "execute_result"
    },
    {
     "data": {
      "image/png": "[encoded data removed]",
      "text/plain": [
       "<Figure size 432x288 with 1 Axes>"
      ]
     },
     "metadata": {
      "needs_background": "light"
     },
     "output_type": "display_data"
    }
   ],
   "source": [
    "sns.distplot(df_recent_hire['Discount'])\n",
    "\n",
    "ax = plt.gca()\n",
    "\n",
    "ax.set_title(\"Distribution of Discounts on orders with Recent Hires\")"
   ]
  },
  {
   "cell_type": "code",
   "execution_count": 46,
   "metadata": {},
   "outputs": [
    {
     "data": {
      "text/plain": [
       "False    543\n",
       "dtype: int64"
      ]
     },
     "execution_count": 46,
     "metadata": {},
     "output_type": "execute_result"
    }
   ],
   "source": [
    "idx_outs = find_outliers_Z(df_recent_hire['Discount'])\n",
    "idx_outs.value_counts()"
   ]
  },
  {
   "cell_type": "code",
   "execution_count": 47,
   "metadata": {},
   "outputs": [
    {
     "data": {
      "text/plain": [
       "Text(0.5, 1.0, 'Distribution of Discounts on orders with Older Hires')"
      ]
     },
     "execution_count": 47,
     "metadata": {},
     "output_type": "execute_result"
    },
    {
     "data": {
      "image/png": "[encoded data removed]",
      "text/plain": [
       "<Figure size 432x288 with 1 Axes>"
      ]
     },
     "metadata": {
      "needs_background": "light"
     },
     "output_type": "display_data"
    }
   ],
   "source": [
    "sns.distplot(df_old_hire['Discount'])\n",
    "\n",
    "ax = plt.gca()\n",
    "\n",
    "ax.set_title(\"Distribution of Discounts on orders with Older Hires\")"
   ]
  },
  {
   "cell_type": "code",
   "execution_count": 48,
   "metadata": {},
   "outputs": [
    {
     "data": {
      "text/plain": [
       "False    1612\n",
       "dtype: int64"
      ]
     },
     "execution_count": 48,
     "metadata": {},
     "output_type": "execute_result"
    }
   ],
   "source": [
    "idx_outs = find_outliers_Z(df_old_hire['Discount'])\n",
    "idx_outs.value_counts()"
   ]
  },
  {
   "cell_type": "markdown",
   "metadata": {},
   "source": [
    "# Normality tests: Hypothesis 2"
   ]
  },
  {
   "cell_type": "code",
   "execution_count": 49,
   "metadata": {},
   "outputs": [
    {
     "name": "stdout",
     "output_type": "stream",
     "text": [
      "p = 0\n",
      "The null hypothesis can be rejected, data does not appear to be from a normal distribution\n"
     ]
    }
   ],
   "source": [
    "normal_test(df_recent_hire['Discount'])"
   ]
  },
  {
   "cell_type": "code",
   "execution_count": 50,
   "metadata": {},
   "outputs": [
    {
     "name": "stdout",
     "output_type": "stream",
     "text": [
      "p = 0\n",
      "The null hypothesis can be rejected, data does not appear to be from a normal distribution\n"
     ]
    }
   ],
   "source": [
    "normal_test(df_old_hire['Discount'])"
   ]
  },
  {
   "cell_type": "markdown",
   "metadata": {},
   "source": [
    "# Equal variance test: Hypothesis 2"
   ]
  },
  {
   "cell_type": "code",
   "execution_count": 51,
   "metadata": {},
   "outputs": [
    {
     "name": "stdout",
     "output_type": "stream",
     "text": [
      "p = 0.0096\n",
      "The null hypothesis can be rejected, data does not appear to have equal variance.\n"
     ]
    }
   ],
   "source": [
    "variance_test(df_recent_hire['Discount'], df_old_hire['Discount'])"
   ]
  },
  {
   "cell_type": "markdown",
   "metadata": {},
   "source": [
    "### Without normality(but with a large group size) or equal variance, Welch's t-test to be used"
   ]
  },
  {
   "cell_type": "markdown",
   "metadata": {},
   "source": [
    "# Welch's T-Test: Hypothesis 2"
   ]
  },
  {
   "cell_type": "code",
   "execution_count": 52,
   "metadata": {},
   "outputs": [
    {
     "name": "stdout",
     "output_type": "stream",
     "text": [
      "Statistics=2.591, p=0.010\n",
      "The null hypothesis can be rejected, data appears to be from differing distributions.\n"
     ]
    }
   ],
   "source": [
    "t_test(df_recent_hire['Discount'],df_old_hire['Discount'],equal_var=False)"
   ]
  },
  {
   "cell_type": "markdown",
   "metadata": {},
   "source": [
    "# Post-hoc tests: Hypothesis 2"
   ]
  },
  {
   "cell_type": "code",
   "execution_count": 53,
   "metadata": {},
   "outputs": [
    {
     "data": {
      "text/plain": [
       "0.12854079340324936"
      ]
     },
     "execution_count": 53,
     "metadata": {},
     "output_type": "execute_result"
    }
   ],
   "source": [
    "Cohen_d(df_recent_hire['Discount'],df_old_hire['Discount'])"
   ]
  },
  {
   "cell_type": "markdown",
   "metadata": {},
   "source": [
    "### Rather small effect size"
   ]
  },
  {
   "cell_type": "code",
   "execution_count": 54,
   "metadata": {},
   "outputs": [
    {
     "name": "stdout",
     "output_type": "stream",
     "text": [
      "    Multiple Comparison of Means - Tukey HSD, FWER=0.05    \n",
      "===========================================================\n",
      "  group1     group2   meandiff p-adj   lower  upper  reject\n",
      "-----------------------------------------------------------\n",
      "2024-04-01 2024-05-01  -0.0004    0.9   -0.02 0.0191  False\n",
      "2024-04-01 2024-08-14  -0.0059    0.9 -0.0274 0.0156  False\n",
      "2024-04-01 2025-05-03   0.0116 0.5527 -0.0071 0.0303  False\n",
      "2024-04-01 2025-10-17   0.0098  0.815 -0.0108 0.0303  False\n",
      "2024-04-01 2026-01-02   0.0239  0.046  0.0002 0.0476   True\n",
      "2024-04-01 2026-03-05   0.0065    0.9 -0.0146 0.0275  False\n",
      "2024-04-01 2026-11-15   0.0185 0.4852 -0.0096 0.0467  False\n",
      "2024-05-01 2024-08-14  -0.0055    0.9 -0.0267 0.0157  False\n",
      "2024-05-01 2025-05-03   0.0121 0.4854 -0.0063 0.0304  False\n",
      "2024-05-01 2025-10-17   0.0102 0.7609   -0.01 0.0304  False\n",
      "2024-05-01 2026-01-02   0.0243 0.0344   0.001 0.0477   True\n",
      "2024-05-01 2026-03-05   0.0069    0.9 -0.0138 0.0276  False\n",
      "2024-05-01 2026-11-15    0.019 0.4427 -0.0089 0.0469  False\n",
      "2024-08-14 2025-05-03   0.0175 0.1531 -0.0029 0.0379  False\n",
      "2024-08-14 2025-10-17   0.0157 0.3803 -0.0064 0.0378  False\n",
      "2024-08-14 2026-01-02   0.0298 0.0074  0.0048 0.0548   True\n",
      "2024-08-14 2026-03-05   0.0124 0.6843 -0.0102 0.0349  False\n",
      "2024-08-14 2026-11-15   0.0244 0.1828 -0.0049 0.0538  False\n",
      "2025-05-03 2025-10-17  -0.0018    0.9 -0.0212 0.0175  False\n",
      "2025-05-03 2026-01-02   0.0123 0.6971 -0.0104 0.0349  False\n",
      "2025-05-03 2026-03-05  -0.0052    0.9 -0.0251 0.0148  False\n",
      "2025-05-03 2026-11-15   0.0069    0.9 -0.0204 0.0342  False\n",
      "2025-10-17 2026-01-02   0.0141 0.6218 -0.0101 0.0383  False\n",
      "2025-10-17 2026-03-05  -0.0033    0.9  -0.025 0.0183  False\n",
      "2025-10-17 2026-11-15   0.0088    0.9 -0.0199 0.0374  False\n",
      "2026-01-02 2026-03-05  -0.0174 0.3871 -0.0421 0.0072  False\n",
      "2026-01-02 2026-11-15  -0.0054    0.9 -0.0363 0.0256  False\n",
      "2026-03-05 2026-11-15   0.0121    0.9 -0.0169 0.0411  False\n",
      "-----------------------------------------------------------\n",
      "['2024-04-01' '2024-05-01' '2024-08-14' '2025-05-03' '2025-10-17'\n",
      " '2026-01-02' '2026-03-05' '2026-11-15']\n"
     ]
    }
   ],
   "source": [
    "df_hire_conc = df_recent_hire.append(df_old_hire)\n",
    "\n",
    "tukey_test(df_hire_conc['Discount'],df_hire_conc['HireDate'])"
   ]
  },
  {
   "cell_type": "markdown",
   "metadata": {},
   "source": [
    "## Bar Chart: Hypothesis 2"
   ]
  },
  {
   "cell_type": "code",
   "execution_count": 55,
   "metadata": {
    "scrolled": false
   },
   "outputs": [
    {
     "data": {
      "text/plain": [
       "Text(0.5, 1.0, 'Discounts given by Hire Date')"
      ]
     },
     "execution_count": 55,
     "metadata": {},
     "output_type": "execute_result"
    },
    {
     "data": {
      "image/png": "[encoded data removed]",
      "text/plain": [
       "<Figure size 432x288 with 1 Axes>"
      ]
     },
     "metadata": {
      "needs_background": "light"
     },
     "output_type": "display_data"
    }
   ],
   "source": [
    "sns.barplot(data=df_hire_conc, x=\"Discount\", y=\"HireDate\", ci=68)\n",
    "\n",
    "ax = plt.gca()\n",
    "\n",
    "ax.set_title(\"Discounts given by Hire Date\")"
   ]
  },
  {
   "cell_type": "markdown",
   "metadata": {},
   "source": [
    "# Recommendations and Summary: Hypothesis 2"
   ]
  },
  {
   "cell_type": "markdown",
   "metadata": {},
   "source": [
    "# TBD: Flesh out recs and summary"
   ]
  },
  {
   "cell_type": "markdown",
   "metadata": {},
   "source": [
    "### -Newer employees give more discounts?"
   ]
  },
  {
   "cell_type": "markdown",
   "metadata": {},
   "source": [
    "# Hypothesis 3:\n",
    "### - Is there an effect on total sales by an employee by their gender?\n",
    "### - Null hypothesis:\n",
    "### - Alternative Hypothesis:"
   ]
  },
  {
   "cell_type": "markdown",
   "metadata": {},
   "source": [
    "# TBD: Add null and alternative"
   ]
  },
  {
   "cell_type": "markdown",
   "metadata": {},
   "source": [
    "# Loading in data regarding employees and their orders"
   ]
  },
  {
   "cell_type": "code",
   "execution_count": 56,
   "metadata": {},
   "outputs": [
    {
     "data": {
      "text/html": [
       "<div>\n",
       "<style scoped>\n",
       "    .dataframe tbody tr th:only-of-type {\n",
       "        vertical-align: middle;\n",
       "    }\n",
       "\n",
       "    .dataframe tbody tr th {\n",
       "        vertical-align: top;\n",
       "    }\n",
       "\n",
       "    .dataframe thead th {\n",
       "        text-align: right;\n",
       "    }\n",
       "</style>\n",
       "<table border=\"1\" class=\"dataframe\">\n",
       "  <thead>\n",
       "    <tr style=\"text-align: right;\">\n",
       "      <th></th>\n",
       "      <th>FirstName</th>\n",
       "      <th>LastName</th>\n",
       "      <th>Id</th>\n",
       "      <th>TitleOfCourtesy</th>\n",
       "      <th>UnitPrice</th>\n",
       "      <th>Quantity</th>\n",
       "      <th>Discount</th>\n",
       "    </tr>\n",
       "  </thead>\n",
       "  <tbody>\n",
       "    <tr>\n",
       "      <td>0</td>\n",
       "      <td>Steven</td>\n",
       "      <td>Buchanan</td>\n",
       "      <td>5</td>\n",
       "      <td>Mr.</td>\n",
       "      <td>14.00</td>\n",
       "      <td>12</td>\n",
       "      <td>0.00</td>\n",
       "    </tr>\n",
       "    <tr>\n",
       "      <td>1</td>\n",
       "      <td>Steven</td>\n",
       "      <td>Buchanan</td>\n",
       "      <td>5</td>\n",
       "      <td>Mr.</td>\n",
       "      <td>9.80</td>\n",
       "      <td>10</td>\n",
       "      <td>0.00</td>\n",
       "    </tr>\n",
       "    <tr>\n",
       "      <td>2</td>\n",
       "      <td>Steven</td>\n",
       "      <td>Buchanan</td>\n",
       "      <td>5</td>\n",
       "      <td>Mr.</td>\n",
       "      <td>34.80</td>\n",
       "      <td>5</td>\n",
       "      <td>0.00</td>\n",
       "    </tr>\n",
       "    <tr>\n",
       "      <td>3</td>\n",
       "      <td>Michael</td>\n",
       "      <td>Suyama</td>\n",
       "      <td>6</td>\n",
       "      <td>Mr.</td>\n",
       "      <td>18.60</td>\n",
       "      <td>9</td>\n",
       "      <td>0.00</td>\n",
       "    </tr>\n",
       "    <tr>\n",
       "      <td>4</td>\n",
       "      <td>Michael</td>\n",
       "      <td>Suyama</td>\n",
       "      <td>6</td>\n",
       "      <td>Mr.</td>\n",
       "      <td>42.40</td>\n",
       "      <td>40</td>\n",
       "      <td>0.00</td>\n",
       "    </tr>\n",
       "    <tr>\n",
       "      <td>...</td>\n",
       "      <td>...</td>\n",
       "      <td>...</td>\n",
       "      <td>...</td>\n",
       "      <td>...</td>\n",
       "      <td>...</td>\n",
       "      <td>...</td>\n",
       "      <td>...</td>\n",
       "    </tr>\n",
       "    <tr>\n",
       "      <td>2150</td>\n",
       "      <td>Nancy</td>\n",
       "      <td>Davolio</td>\n",
       "      <td>1</td>\n",
       "      <td>Ms.</td>\n",
       "      <td>33.25</td>\n",
       "      <td>2</td>\n",
       "      <td>0.03</td>\n",
       "    </tr>\n",
       "    <tr>\n",
       "      <td>2151</td>\n",
       "      <td>Nancy</td>\n",
       "      <td>Davolio</td>\n",
       "      <td>1</td>\n",
       "      <td>Ms.</td>\n",
       "      <td>17.00</td>\n",
       "      <td>1</td>\n",
       "      <td>0.00</td>\n",
       "    </tr>\n",
       "    <tr>\n",
       "      <td>2152</td>\n",
       "      <td>Nancy</td>\n",
       "      <td>Davolio</td>\n",
       "      <td>1</td>\n",
       "      <td>Ms.</td>\n",
       "      <td>15.00</td>\n",
       "      <td>2</td>\n",
       "      <td>0.01</td>\n",
       "    </tr>\n",
       "    <tr>\n",
       "      <td>2153</td>\n",
       "      <td>Nancy</td>\n",
       "      <td>Davolio</td>\n",
       "      <td>1</td>\n",
       "      <td>Ms.</td>\n",
       "      <td>7.75</td>\n",
       "      <td>4</td>\n",
       "      <td>0.00</td>\n",
       "    </tr>\n",
       "    <tr>\n",
       "      <td>2154</td>\n",
       "      <td>Nancy</td>\n",
       "      <td>Davolio</td>\n",
       "      <td>1</td>\n",
       "      <td>Ms.</td>\n",
       "      <td>13.00</td>\n",
       "      <td>2</td>\n",
       "      <td>0.00</td>\n",
       "    </tr>\n",
       "  </tbody>\n",
       "</table>\n",
       "<p>2155 rows × 7 columns</p>\n",
       "</div>"
      ],
      "text/plain": [
       "     FirstName  LastName  Id TitleOfCourtesy  UnitPrice  Quantity  Discount\n",
       "0       Steven  Buchanan   5             Mr.      14.00        12      0.00\n",
       "1       Steven  Buchanan   5             Mr.       9.80        10      0.00\n",
       "2       Steven  Buchanan   5             Mr.      34.80         5      0.00\n",
       "3      Michael    Suyama   6             Mr.      18.60         9      0.00\n",
       "4      Michael    Suyama   6             Mr.      42.40        40      0.00\n",
       "...        ...       ...  ..             ...        ...       ...       ...\n",
       "2150     Nancy   Davolio   1             Ms.      33.25         2      0.03\n",
       "2151     Nancy   Davolio   1             Ms.      17.00         1      0.00\n",
       "2152     Nancy   Davolio   1             Ms.      15.00         2      0.01\n",
       "2153     Nancy   Davolio   1             Ms.       7.75         4      0.00\n",
       "2154     Nancy   Davolio   1             Ms.      13.00         2      0.00\n",
       "\n",
       "[2155 rows x 7 columns]"
      ]
     },
     "execution_count": 56,
     "metadata": {},
     "output_type": "execute_result"
    }
   ],
   "source": [
    "c.execute(\"\"\"SELECT E.FirstName, E.LastName, E.ID, E.TitleOfCourtesy, OD.UnitPrice, OD.Quantity, OD.Discount\n",
    "             FROM Employee E \n",
    "             JOIN `Order` O\n",
    "             ON O.EmployeeID = E.ID\n",
    "             JOIN OrderDetail OD\n",
    "             ON OD.OrderID = O.ID ;\"\"\")\n",
    "df_gen = pd.DataFrame(c.fetchall())\n",
    "df_gen.columns = [x[0] for x in c.description]\n",
    "df_gen.head(10)\n",
    "\n",
    "df_gen"
   ]
  },
  {
   "cell_type": "markdown",
   "metadata": {},
   "source": [
    "## Segmenting by gender"
   ]
  },
  {
   "cell_type": "code",
   "execution_count": 57,
   "metadata": {},
   "outputs": [
    {
     "data": {
      "text/plain": [
       "Ms.     1033\n",
       "Mr.      461\n",
       "Mrs.     420\n",
       "Dr.      241\n",
       "Name: TitleOfCourtesy, dtype: int64"
      ]
     },
     "execution_count": 57,
     "metadata": {},
     "output_type": "execute_result"
    }
   ],
   "source": [
    "df_gen['TitleOfCourtesy'].value_counts()"
   ]
  },
  {
   "cell_type": "code",
   "execution_count": 58,
   "metadata": {},
   "outputs": [],
   "source": [
    "def gender_def(col): \n",
    "    if col['TitleOfCourtesy'] == \"Mrs.\":\n",
    "        return \"F\"\n",
    "    elif col['TitleOfCourtesy'] == \"Ms.\":\n",
    "        return \"F\"\n",
    "    else:\n",
    "        return \"M\""
   ]
  },
  {
   "cell_type": "code",
   "execution_count": 59,
   "metadata": {},
   "outputs": [
    {
     "data": {
      "text/html": [
       "<div>\n",
       "<style scoped>\n",
       "    .dataframe tbody tr th:only-of-type {\n",
       "        vertical-align: middle;\n",
       "    }\n",
       "\n",
       "    .dataframe tbody tr th {\n",
       "        vertical-align: top;\n",
       "    }\n",
       "\n",
       "    .dataframe thead th {\n",
       "        text-align: right;\n",
       "    }\n",
       "</style>\n",
       "<table border=\"1\" class=\"dataframe\">\n",
       "  <thead>\n",
       "    <tr style=\"text-align: right;\">\n",
       "      <th></th>\n",
       "      <th>FirstName</th>\n",
       "      <th>LastName</th>\n",
       "      <th>Id</th>\n",
       "      <th>TitleOfCourtesy</th>\n",
       "      <th>UnitPrice</th>\n",
       "      <th>Quantity</th>\n",
       "      <th>Discount</th>\n",
       "      <th>Gender</th>\n",
       "    </tr>\n",
       "  </thead>\n",
       "  <tbody>\n",
       "    <tr>\n",
       "      <td>0</td>\n",
       "      <td>Steven</td>\n",
       "      <td>Buchanan</td>\n",
       "      <td>5</td>\n",
       "      <td>Mr.</td>\n",
       "      <td>14.0</td>\n",
       "      <td>12</td>\n",
       "      <td>0.00</td>\n",
       "      <td>M</td>\n",
       "    </tr>\n",
       "    <tr>\n",
       "      <td>1</td>\n",
       "      <td>Steven</td>\n",
       "      <td>Buchanan</td>\n",
       "      <td>5</td>\n",
       "      <td>Mr.</td>\n",
       "      <td>9.8</td>\n",
       "      <td>10</td>\n",
       "      <td>0.00</td>\n",
       "      <td>M</td>\n",
       "    </tr>\n",
       "    <tr>\n",
       "      <td>2</td>\n",
       "      <td>Steven</td>\n",
       "      <td>Buchanan</td>\n",
       "      <td>5</td>\n",
       "      <td>Mr.</td>\n",
       "      <td>34.8</td>\n",
       "      <td>5</td>\n",
       "      <td>0.00</td>\n",
       "      <td>M</td>\n",
       "    </tr>\n",
       "    <tr>\n",
       "      <td>3</td>\n",
       "      <td>Michael</td>\n",
       "      <td>Suyama</td>\n",
       "      <td>6</td>\n",
       "      <td>Mr.</td>\n",
       "      <td>18.6</td>\n",
       "      <td>9</td>\n",
       "      <td>0.00</td>\n",
       "      <td>M</td>\n",
       "    </tr>\n",
       "    <tr>\n",
       "      <td>4</td>\n",
       "      <td>Michael</td>\n",
       "      <td>Suyama</td>\n",
       "      <td>6</td>\n",
       "      <td>Mr.</td>\n",
       "      <td>42.4</td>\n",
       "      <td>40</td>\n",
       "      <td>0.00</td>\n",
       "      <td>M</td>\n",
       "    </tr>\n",
       "    <tr>\n",
       "      <td>5</td>\n",
       "      <td>Margaret</td>\n",
       "      <td>Peacock</td>\n",
       "      <td>4</td>\n",
       "      <td>Mrs.</td>\n",
       "      <td>7.7</td>\n",
       "      <td>10</td>\n",
       "      <td>0.00</td>\n",
       "      <td>F</td>\n",
       "    </tr>\n",
       "    <tr>\n",
       "      <td>6</td>\n",
       "      <td>Margaret</td>\n",
       "      <td>Peacock</td>\n",
       "      <td>4</td>\n",
       "      <td>Mrs.</td>\n",
       "      <td>42.4</td>\n",
       "      <td>35</td>\n",
       "      <td>0.15</td>\n",
       "      <td>F</td>\n",
       "    </tr>\n",
       "    <tr>\n",
       "      <td>7</td>\n",
       "      <td>Margaret</td>\n",
       "      <td>Peacock</td>\n",
       "      <td>4</td>\n",
       "      <td>Mrs.</td>\n",
       "      <td>16.8</td>\n",
       "      <td>15</td>\n",
       "      <td>0.15</td>\n",
       "      <td>F</td>\n",
       "    </tr>\n",
       "    <tr>\n",
       "      <td>8</td>\n",
       "      <td>Janet</td>\n",
       "      <td>Leverling</td>\n",
       "      <td>3</td>\n",
       "      <td>Ms.</td>\n",
       "      <td>16.8</td>\n",
       "      <td>6</td>\n",
       "      <td>0.05</td>\n",
       "      <td>F</td>\n",
       "    </tr>\n",
       "    <tr>\n",
       "      <td>9</td>\n",
       "      <td>Janet</td>\n",
       "      <td>Leverling</td>\n",
       "      <td>3</td>\n",
       "      <td>Ms.</td>\n",
       "      <td>15.6</td>\n",
       "      <td>15</td>\n",
       "      <td>0.05</td>\n",
       "      <td>F</td>\n",
       "    </tr>\n",
       "  </tbody>\n",
       "</table>\n",
       "</div>"
      ],
      "text/plain": [
       "  FirstName   LastName  Id TitleOfCourtesy  UnitPrice  Quantity  Discount  \\\n",
       "0    Steven   Buchanan   5             Mr.       14.0        12      0.00   \n",
       "1    Steven   Buchanan   5             Mr.        9.8        10      0.00   \n",
       "2    Steven   Buchanan   5             Mr.       34.8         5      0.00   \n",
       "3   Michael     Suyama   6             Mr.       18.6         9      0.00   \n",
       "4   Michael     Suyama   6             Mr.       42.4        40      0.00   \n",
       "5  Margaret    Peacock   4            Mrs.        7.7        10      0.00   \n",
       "6  Margaret    Peacock   4            Mrs.       42.4        35      0.15   \n",
       "7  Margaret    Peacock   4            Mrs.       16.8        15      0.15   \n",
       "8     Janet  Leverling   3             Ms.       16.8         6      0.05   \n",
       "9     Janet  Leverling   3             Ms.       15.6        15      0.05   \n",
       "\n",
       "  Gender  \n",
       "0      M  \n",
       "1      M  \n",
       "2      M  \n",
       "3      M  \n",
       "4      M  \n",
       "5      F  \n",
       "6      F  \n",
       "7      F  \n",
       "8      F  \n",
       "9      F  "
      ]
     },
     "execution_count": 59,
     "metadata": {},
     "output_type": "execute_result"
    }
   ],
   "source": [
    "df_gen['Gender'] = df_gen.apply(gender_def, axis=1)\n",
    "\n",
    "df_gen.head(10)"
   ]
  },
  {
   "cell_type": "code",
   "execution_count": 60,
   "metadata": {},
   "outputs": [],
   "source": [
    "df_f = df_gen.loc[df_gen['Gender'] == \"F\"]\n",
    "df_m = df_gen.loc[df_gen['Gender'] == 'M']"
   ]
  },
  {
   "cell_type": "code",
   "execution_count": 61,
   "metadata": {},
   "outputs": [
    {
     "data": {
      "text/html": [
       "<div>\n",
       "<style scoped>\n",
       "    .dataframe tbody tr th:only-of-type {\n",
       "        vertical-align: middle;\n",
       "    }\n",
       "\n",
       "    .dataframe tbody tr th {\n",
       "        vertical-align: top;\n",
       "    }\n",
       "\n",
       "    .dataframe thead th {\n",
       "        text-align: right;\n",
       "    }\n",
       "</style>\n",
       "<table border=\"1\" class=\"dataframe\">\n",
       "  <thead>\n",
       "    <tr style=\"text-align: right;\">\n",
       "      <th></th>\n",
       "      <th>FirstName</th>\n",
       "      <th>LastName</th>\n",
       "      <th>Id</th>\n",
       "      <th>TitleOfCourtesy</th>\n",
       "      <th>UnitPrice</th>\n",
       "      <th>Quantity</th>\n",
       "      <th>Discount</th>\n",
       "      <th>Gender</th>\n",
       "    </tr>\n",
       "  </thead>\n",
       "  <tbody>\n",
       "    <tr>\n",
       "      <td>5</td>\n",
       "      <td>Margaret</td>\n",
       "      <td>Peacock</td>\n",
       "      <td>4</td>\n",
       "      <td>Mrs.</td>\n",
       "      <td>7.7</td>\n",
       "      <td>10</td>\n",
       "      <td>0.00</td>\n",
       "      <td>F</td>\n",
       "    </tr>\n",
       "    <tr>\n",
       "      <td>6</td>\n",
       "      <td>Margaret</td>\n",
       "      <td>Peacock</td>\n",
       "      <td>4</td>\n",
       "      <td>Mrs.</td>\n",
       "      <td>42.4</td>\n",
       "      <td>35</td>\n",
       "      <td>0.15</td>\n",
       "      <td>F</td>\n",
       "    </tr>\n",
       "    <tr>\n",
       "      <td>7</td>\n",
       "      <td>Margaret</td>\n",
       "      <td>Peacock</td>\n",
       "      <td>4</td>\n",
       "      <td>Mrs.</td>\n",
       "      <td>16.8</td>\n",
       "      <td>15</td>\n",
       "      <td>0.15</td>\n",
       "      <td>F</td>\n",
       "    </tr>\n",
       "    <tr>\n",
       "      <td>8</td>\n",
       "      <td>Janet</td>\n",
       "      <td>Leverling</td>\n",
       "      <td>3</td>\n",
       "      <td>Ms.</td>\n",
       "      <td>16.8</td>\n",
       "      <td>6</td>\n",
       "      <td>0.05</td>\n",
       "      <td>F</td>\n",
       "    </tr>\n",
       "    <tr>\n",
       "      <td>9</td>\n",
       "      <td>Janet</td>\n",
       "      <td>Leverling</td>\n",
       "      <td>3</td>\n",
       "      <td>Ms.</td>\n",
       "      <td>15.6</td>\n",
       "      <td>15</td>\n",
       "      <td>0.05</td>\n",
       "      <td>F</td>\n",
       "    </tr>\n",
       "  </tbody>\n",
       "</table>\n",
       "</div>"
      ],
      "text/plain": [
       "  FirstName   LastName  Id TitleOfCourtesy  UnitPrice  Quantity  Discount  \\\n",
       "5  Margaret    Peacock   4            Mrs.        7.7        10      0.00   \n",
       "6  Margaret    Peacock   4            Mrs.       42.4        35      0.15   \n",
       "7  Margaret    Peacock   4            Mrs.       16.8        15      0.15   \n",
       "8     Janet  Leverling   3             Ms.       16.8         6      0.05   \n",
       "9     Janet  Leverling   3             Ms.       15.6        15      0.05   \n",
       "\n",
       "  Gender  \n",
       "5      F  \n",
       "6      F  \n",
       "7      F  \n",
       "8      F  \n",
       "9      F  "
      ]
     },
     "execution_count": 61,
     "metadata": {},
     "output_type": "execute_result"
    }
   ],
   "source": [
    "df_f.head()"
   ]
  },
  {
   "cell_type": "code",
   "execution_count": 62,
   "metadata": {},
   "outputs": [
    {
     "data": {
      "text/html": [
       "<div>\n",
       "<style scoped>\n",
       "    .dataframe tbody tr th:only-of-type {\n",
       "        vertical-align: middle;\n",
       "    }\n",
       "\n",
       "    .dataframe tbody tr th {\n",
       "        vertical-align: top;\n",
       "    }\n",
       "\n",
       "    .dataframe thead th {\n",
       "        text-align: right;\n",
       "    }\n",
       "</style>\n",
       "<table border=\"1\" class=\"dataframe\">\n",
       "  <thead>\n",
       "    <tr style=\"text-align: right;\">\n",
       "      <th></th>\n",
       "      <th>FirstName</th>\n",
       "      <th>LastName</th>\n",
       "      <th>Id</th>\n",
       "      <th>TitleOfCourtesy</th>\n",
       "      <th>UnitPrice</th>\n",
       "      <th>Quantity</th>\n",
       "      <th>Discount</th>\n",
       "      <th>Gender</th>\n",
       "    </tr>\n",
       "  </thead>\n",
       "  <tbody>\n",
       "    <tr>\n",
       "      <td>0</td>\n",
       "      <td>Steven</td>\n",
       "      <td>Buchanan</td>\n",
       "      <td>5</td>\n",
       "      <td>Mr.</td>\n",
       "      <td>14.0</td>\n",
       "      <td>12</td>\n",
       "      <td>0.0</td>\n",
       "      <td>M</td>\n",
       "    </tr>\n",
       "    <tr>\n",
       "      <td>1</td>\n",
       "      <td>Steven</td>\n",
       "      <td>Buchanan</td>\n",
       "      <td>5</td>\n",
       "      <td>Mr.</td>\n",
       "      <td>9.8</td>\n",
       "      <td>10</td>\n",
       "      <td>0.0</td>\n",
       "      <td>M</td>\n",
       "    </tr>\n",
       "    <tr>\n",
       "      <td>2</td>\n",
       "      <td>Steven</td>\n",
       "      <td>Buchanan</td>\n",
       "      <td>5</td>\n",
       "      <td>Mr.</td>\n",
       "      <td>34.8</td>\n",
       "      <td>5</td>\n",
       "      <td>0.0</td>\n",
       "      <td>M</td>\n",
       "    </tr>\n",
       "    <tr>\n",
       "      <td>3</td>\n",
       "      <td>Michael</td>\n",
       "      <td>Suyama</td>\n",
       "      <td>6</td>\n",
       "      <td>Mr.</td>\n",
       "      <td>18.6</td>\n",
       "      <td>9</td>\n",
       "      <td>0.0</td>\n",
       "      <td>M</td>\n",
       "    </tr>\n",
       "    <tr>\n",
       "      <td>4</td>\n",
       "      <td>Michael</td>\n",
       "      <td>Suyama</td>\n",
       "      <td>6</td>\n",
       "      <td>Mr.</td>\n",
       "      <td>42.4</td>\n",
       "      <td>40</td>\n",
       "      <td>0.0</td>\n",
       "      <td>M</td>\n",
       "    </tr>\n",
       "  </tbody>\n",
       "</table>\n",
       "</div>"
      ],
      "text/plain": [
       "  FirstName  LastName  Id TitleOfCourtesy  UnitPrice  Quantity  Discount  \\\n",
       "0    Steven  Buchanan   5             Mr.       14.0        12       0.0   \n",
       "1    Steven  Buchanan   5             Mr.        9.8        10       0.0   \n",
       "2    Steven  Buchanan   5             Mr.       34.8         5       0.0   \n",
       "3   Michael    Suyama   6             Mr.       18.6         9       0.0   \n",
       "4   Michael    Suyama   6             Mr.       42.4        40       0.0   \n",
       "\n",
       "  Gender  \n",
       "0      M  \n",
       "1      M  \n",
       "2      M  \n",
       "3      M  \n",
       "4      M  "
      ]
     },
     "execution_count": 62,
     "metadata": {},
     "output_type": "execute_result"
    }
   ],
   "source": [
    "df_m.head()"
   ]
  },
  {
   "cell_type": "markdown",
   "metadata": {},
   "source": [
    "### Distribution of employees by Gender"
   ]
  },
  {
   "cell_type": "code",
   "execution_count": 63,
   "metadata": {},
   "outputs": [
    {
     "data": {
      "text/plain": [
       "<seaborn.axisgrid.FacetGrid at 0x1a1afb7978>"
      ]
     },
     "execution_count": 63,
     "metadata": {},
     "output_type": "execute_result"
    },
    {
     "data": {
      "image/png": "[encoded data removed]",
      "text/plain": [
       "<Figure size 360x360 with 1 Axes>"
      ]
     },
     "metadata": {
      "needs_background": "light"
     },
     "output_type": "display_data"
    }
   ],
   "source": [
    "sns.catplot(data=df_gen, x=\"Gender\")"
   ]
  },
  {
   "cell_type": "markdown",
   "metadata": {},
   "source": [
    "## Creating Total out of Unit Price * Quantity"
   ]
  },
  {
   "cell_type": "code",
   "execution_count": 64,
   "metadata": {},
   "outputs": [
    {
     "data": {
      "text/html": [
       "<div>\n",
       "<style scoped>\n",
       "    .dataframe tbody tr th:only-of-type {\n",
       "        vertical-align: middle;\n",
       "    }\n",
       "\n",
       "    .dataframe tbody tr th {\n",
       "        vertical-align: top;\n",
       "    }\n",
       "\n",
       "    .dataframe thead th {\n",
       "        text-align: right;\n",
       "    }\n",
       "</style>\n",
       "<table border=\"1\" class=\"dataframe\">\n",
       "  <thead>\n",
       "    <tr style=\"text-align: right;\">\n",
       "      <th></th>\n",
       "      <th>FirstName</th>\n",
       "      <th>LastName</th>\n",
       "      <th>Id</th>\n",
       "      <th>TitleOfCourtesy</th>\n",
       "      <th>UnitPrice</th>\n",
       "      <th>Quantity</th>\n",
       "      <th>Discount</th>\n",
       "      <th>Gender</th>\n",
       "      <th>Total</th>\n",
       "    </tr>\n",
       "  </thead>\n",
       "  <tbody>\n",
       "    <tr>\n",
       "      <td>5</td>\n",
       "      <td>Margaret</td>\n",
       "      <td>Peacock</td>\n",
       "      <td>4</td>\n",
       "      <td>Mrs.</td>\n",
       "      <td>7.7</td>\n",
       "      <td>10</td>\n",
       "      <td>0.00</td>\n",
       "      <td>F</td>\n",
       "      <td>77.0</td>\n",
       "    </tr>\n",
       "    <tr>\n",
       "      <td>6</td>\n",
       "      <td>Margaret</td>\n",
       "      <td>Peacock</td>\n",
       "      <td>4</td>\n",
       "      <td>Mrs.</td>\n",
       "      <td>42.4</td>\n",
       "      <td>35</td>\n",
       "      <td>0.15</td>\n",
       "      <td>F</td>\n",
       "      <td>1484.0</td>\n",
       "    </tr>\n",
       "    <tr>\n",
       "      <td>7</td>\n",
       "      <td>Margaret</td>\n",
       "      <td>Peacock</td>\n",
       "      <td>4</td>\n",
       "      <td>Mrs.</td>\n",
       "      <td>16.8</td>\n",
       "      <td>15</td>\n",
       "      <td>0.15</td>\n",
       "      <td>F</td>\n",
       "      <td>252.0</td>\n",
       "    </tr>\n",
       "    <tr>\n",
       "      <td>8</td>\n",
       "      <td>Janet</td>\n",
       "      <td>Leverling</td>\n",
       "      <td>3</td>\n",
       "      <td>Ms.</td>\n",
       "      <td>16.8</td>\n",
       "      <td>6</td>\n",
       "      <td>0.05</td>\n",
       "      <td>F</td>\n",
       "      <td>100.8</td>\n",
       "    </tr>\n",
       "    <tr>\n",
       "      <td>9</td>\n",
       "      <td>Janet</td>\n",
       "      <td>Leverling</td>\n",
       "      <td>3</td>\n",
       "      <td>Ms.</td>\n",
       "      <td>15.6</td>\n",
       "      <td>15</td>\n",
       "      <td>0.05</td>\n",
       "      <td>F</td>\n",
       "      <td>234.0</td>\n",
       "    </tr>\n",
       "    <tr>\n",
       "      <td>10</td>\n",
       "      <td>Janet</td>\n",
       "      <td>Leverling</td>\n",
       "      <td>3</td>\n",
       "      <td>Ms.</td>\n",
       "      <td>16.8</td>\n",
       "      <td>20</td>\n",
       "      <td>0.00</td>\n",
       "      <td>F</td>\n",
       "      <td>336.0</td>\n",
       "    </tr>\n",
       "    <tr>\n",
       "      <td>11</td>\n",
       "      <td>Margaret</td>\n",
       "      <td>Peacock</td>\n",
       "      <td>4</td>\n",
       "      <td>Mrs.</td>\n",
       "      <td>64.8</td>\n",
       "      <td>40</td>\n",
       "      <td>0.05</td>\n",
       "      <td>F</td>\n",
       "      <td>2592.0</td>\n",
       "    </tr>\n",
       "    <tr>\n",
       "      <td>12</td>\n",
       "      <td>Margaret</td>\n",
       "      <td>Peacock</td>\n",
       "      <td>4</td>\n",
       "      <td>Mrs.</td>\n",
       "      <td>2.0</td>\n",
       "      <td>25</td>\n",
       "      <td>0.05</td>\n",
       "      <td>F</td>\n",
       "      <td>50.0</td>\n",
       "    </tr>\n",
       "    <tr>\n",
       "      <td>13</td>\n",
       "      <td>Margaret</td>\n",
       "      <td>Peacock</td>\n",
       "      <td>4</td>\n",
       "      <td>Mrs.</td>\n",
       "      <td>27.2</td>\n",
       "      <td>40</td>\n",
       "      <td>0.00</td>\n",
       "      <td>F</td>\n",
       "      <td>1088.0</td>\n",
       "    </tr>\n",
       "    <tr>\n",
       "      <td>14</td>\n",
       "      <td>Janet</td>\n",
       "      <td>Leverling</td>\n",
       "      <td>3</td>\n",
       "      <td>Ms.</td>\n",
       "      <td>10.0</td>\n",
       "      <td>20</td>\n",
       "      <td>0.00</td>\n",
       "      <td>F</td>\n",
       "      <td>200.0</td>\n",
       "    </tr>\n",
       "  </tbody>\n",
       "</table>\n",
       "</div>"
      ],
      "text/plain": [
       "   FirstName   LastName  Id TitleOfCourtesy  UnitPrice  Quantity  Discount  \\\n",
       "5   Margaret    Peacock   4            Mrs.        7.7        10      0.00   \n",
       "6   Margaret    Peacock   4            Mrs.       42.4        35      0.15   \n",
       "7   Margaret    Peacock   4            Mrs.       16.8        15      0.15   \n",
       "8      Janet  Leverling   3             Ms.       16.8         6      0.05   \n",
       "9      Janet  Leverling   3             Ms.       15.6        15      0.05   \n",
       "10     Janet  Leverling   3             Ms.       16.8        20      0.00   \n",
       "11  Margaret    Peacock   4            Mrs.       64.8        40      0.05   \n",
       "12  Margaret    Peacock   4            Mrs.        2.0        25      0.05   \n",
       "13  Margaret    Peacock   4            Mrs.       27.2        40      0.00   \n",
       "14     Janet  Leverling   3             Ms.       10.0        20      0.00   \n",
       "\n",
       "   Gender   Total  \n",
       "5       F    77.0  \n",
       "6       F  1484.0  \n",
       "7       F   252.0  \n",
       "8       F   100.8  \n",
       "9       F   234.0  \n",
       "10      F   336.0  \n",
       "11      F  2592.0  \n",
       "12      F    50.0  \n",
       "13      F  1088.0  \n",
       "14      F   200.0  "
      ]
     },
     "execution_count": 64,
     "metadata": {},
     "output_type": "execute_result"
    }
   ],
   "source": [
    "df_f['Total'] = df_f['UnitPrice']*df_f['Quantity']\n",
    "\n",
    "df_f.head(10)"
   ]
  },
  {
   "cell_type": "code",
   "execution_count": 65,
   "metadata": {},
   "outputs": [
    {
     "data": {
      "text/html": [
       "<div>\n",
       "<style scoped>\n",
       "    .dataframe tbody tr th:only-of-type {\n",
       "        vertical-align: middle;\n",
       "    }\n",
       "\n",
       "    .dataframe tbody tr th {\n",
       "        vertical-align: top;\n",
       "    }\n",
       "\n",
       "    .dataframe thead th {\n",
       "        text-align: right;\n",
       "    }\n",
       "</style>\n",
       "<table border=\"1\" class=\"dataframe\">\n",
       "  <thead>\n",
       "    <tr style=\"text-align: right;\">\n",
       "      <th></th>\n",
       "      <th>FirstName</th>\n",
       "      <th>LastName</th>\n",
       "      <th>Id</th>\n",
       "      <th>TitleOfCourtesy</th>\n",
       "      <th>UnitPrice</th>\n",
       "      <th>Quantity</th>\n",
       "      <th>Discount</th>\n",
       "      <th>Gender</th>\n",
       "      <th>Total</th>\n",
       "    </tr>\n",
       "  </thead>\n",
       "  <tbody>\n",
       "    <tr>\n",
       "      <td>5</td>\n",
       "      <td>Margaret</td>\n",
       "      <td>Peacock</td>\n",
       "      <td>4</td>\n",
       "      <td>Mrs.</td>\n",
       "      <td>7.7</td>\n",
       "      <td>10</td>\n",
       "      <td>0.00</td>\n",
       "      <td>F</td>\n",
       "      <td>77.0</td>\n",
       "    </tr>\n",
       "    <tr>\n",
       "      <td>6</td>\n",
       "      <td>Margaret</td>\n",
       "      <td>Peacock</td>\n",
       "      <td>4</td>\n",
       "      <td>Mrs.</td>\n",
       "      <td>42.4</td>\n",
       "      <td>35</td>\n",
       "      <td>0.15</td>\n",
       "      <td>F</td>\n",
       "      <td>1484.0</td>\n",
       "    </tr>\n",
       "    <tr>\n",
       "      <td>7</td>\n",
       "      <td>Margaret</td>\n",
       "      <td>Peacock</td>\n",
       "      <td>4</td>\n",
       "      <td>Mrs.</td>\n",
       "      <td>16.8</td>\n",
       "      <td>15</td>\n",
       "      <td>0.15</td>\n",
       "      <td>F</td>\n",
       "      <td>252.0</td>\n",
       "    </tr>\n",
       "    <tr>\n",
       "      <td>8</td>\n",
       "      <td>Janet</td>\n",
       "      <td>Leverling</td>\n",
       "      <td>3</td>\n",
       "      <td>Ms.</td>\n",
       "      <td>16.8</td>\n",
       "      <td>6</td>\n",
       "      <td>0.05</td>\n",
       "      <td>F</td>\n",
       "      <td>100.8</td>\n",
       "    </tr>\n",
       "    <tr>\n",
       "      <td>9</td>\n",
       "      <td>Janet</td>\n",
       "      <td>Leverling</td>\n",
       "      <td>3</td>\n",
       "      <td>Ms.</td>\n",
       "      <td>15.6</td>\n",
       "      <td>15</td>\n",
       "      <td>0.05</td>\n",
       "      <td>F</td>\n",
       "      <td>234.0</td>\n",
       "    </tr>\n",
       "    <tr>\n",
       "      <td>10</td>\n",
       "      <td>Janet</td>\n",
       "      <td>Leverling</td>\n",
       "      <td>3</td>\n",
       "      <td>Ms.</td>\n",
       "      <td>16.8</td>\n",
       "      <td>20</td>\n",
       "      <td>0.00</td>\n",
       "      <td>F</td>\n",
       "      <td>336.0</td>\n",
       "    </tr>\n",
       "    <tr>\n",
       "      <td>11</td>\n",
       "      <td>Margaret</td>\n",
       "      <td>Peacock</td>\n",
       "      <td>4</td>\n",
       "      <td>Mrs.</td>\n",
       "      <td>64.8</td>\n",
       "      <td>40</td>\n",
       "      <td>0.05</td>\n",
       "      <td>F</td>\n",
       "      <td>2592.0</td>\n",
       "    </tr>\n",
       "    <tr>\n",
       "      <td>12</td>\n",
       "      <td>Margaret</td>\n",
       "      <td>Peacock</td>\n",
       "      <td>4</td>\n",
       "      <td>Mrs.</td>\n",
       "      <td>2.0</td>\n",
       "      <td>25</td>\n",
       "      <td>0.05</td>\n",
       "      <td>F</td>\n",
       "      <td>50.0</td>\n",
       "    </tr>\n",
       "    <tr>\n",
       "      <td>13</td>\n",
       "      <td>Margaret</td>\n",
       "      <td>Peacock</td>\n",
       "      <td>4</td>\n",
       "      <td>Mrs.</td>\n",
       "      <td>27.2</td>\n",
       "      <td>40</td>\n",
       "      <td>0.00</td>\n",
       "      <td>F</td>\n",
       "      <td>1088.0</td>\n",
       "    </tr>\n",
       "    <tr>\n",
       "      <td>14</td>\n",
       "      <td>Janet</td>\n",
       "      <td>Leverling</td>\n",
       "      <td>3</td>\n",
       "      <td>Ms.</td>\n",
       "      <td>10.0</td>\n",
       "      <td>20</td>\n",
       "      <td>0.00</td>\n",
       "      <td>F</td>\n",
       "      <td>200.0</td>\n",
       "    </tr>\n",
       "  </tbody>\n",
       "</table>\n",
       "</div>"
      ],
      "text/plain": [
       "   FirstName   LastName  Id TitleOfCourtesy  UnitPrice  Quantity  Discount  \\\n",
       "5   Margaret    Peacock   4            Mrs.        7.7        10      0.00   \n",
       "6   Margaret    Peacock   4            Mrs.       42.4        35      0.15   \n",
       "7   Margaret    Peacock   4            Mrs.       16.8        15      0.15   \n",
       "8      Janet  Leverling   3             Ms.       16.8         6      0.05   \n",
       "9      Janet  Leverling   3             Ms.       15.6        15      0.05   \n",
       "10     Janet  Leverling   3             Ms.       16.8        20      0.00   \n",
       "11  Margaret    Peacock   4            Mrs.       64.8        40      0.05   \n",
       "12  Margaret    Peacock   4            Mrs.        2.0        25      0.05   \n",
       "13  Margaret    Peacock   4            Mrs.       27.2        40      0.00   \n",
       "14     Janet  Leverling   3             Ms.       10.0        20      0.00   \n",
       "\n",
       "   Gender   Total  \n",
       "5       F    77.0  \n",
       "6       F  1484.0  \n",
       "7       F   252.0  \n",
       "8       F   100.8  \n",
       "9       F   234.0  \n",
       "10      F   336.0  \n",
       "11      F  2592.0  \n",
       "12      F    50.0  \n",
       "13      F  1088.0  \n",
       "14      F   200.0  "
      ]
     },
     "execution_count": 65,
     "metadata": {},
     "output_type": "execute_result"
    }
   ],
   "source": [
    "df_m['Total'] = df_m['UnitPrice']*df_m['Quantity']\n",
    "\n",
    "df_f.head(10)"
   ]
  },
  {
   "cell_type": "markdown",
   "metadata": {},
   "source": [
    "# Outlier Removal: Hypothesis 3"
   ]
  },
  {
   "cell_type": "code",
   "execution_count": 66,
   "metadata": {},
   "outputs": [
    {
     "data": {
      "text/plain": [
       "Text(0.5, 1.0, 'Distribution of Total revenue for Female Employees')"
      ]
     },
     "execution_count": 66,
     "metadata": {},
     "output_type": "execute_result"
    },
    {
     "data": {
      "image/png": "[encoded data removed]",
      "text/plain": [
       "<Figure size 432x288 with 1 Axes>"
      ]
     },
     "metadata": {
      "needs_background": "light"
     },
     "output_type": "display_data"
    }
   ],
   "source": [
    "sns.distplot(df_f['Total'])\n",
    "\n",
    "ax = plt.gca()\n",
    "\n",
    "ax.set_title(\"Distribution of Total revenue for Female Employees\")"
   ]
  },
  {
   "cell_type": "code",
   "execution_count": 67,
   "metadata": {},
   "outputs": [
    {
     "data": {
      "text/plain": [
       "False    1434\n",
       "True       19\n",
       "dtype: int64"
      ]
     },
     "execution_count": 67,
     "metadata": {},
     "output_type": "execute_result"
    }
   ],
   "source": [
    "idx_outs = find_outliers_Z(df_f['Total'])\n",
    "idx_outs.value_counts()"
   ]
  },
  {
   "cell_type": "code",
   "execution_count": 68,
   "metadata": {},
   "outputs": [],
   "source": [
    "df_f = df_f[~idx_outs].copy()"
   ]
  },
  {
   "cell_type": "code",
   "execution_count": 69,
   "metadata": {},
   "outputs": [
    {
     "data": {
      "text/plain": [
       "1434"
      ]
     },
     "execution_count": 69,
     "metadata": {},
     "output_type": "execute_result"
    }
   ],
   "source": [
    "len(df_f)"
   ]
  },
  {
   "cell_type": "code",
   "execution_count": 70,
   "metadata": {},
   "outputs": [
    {
     "data": {
      "text/plain": [
       "Text(0.5, 1.0, 'Distribution of Total revenue for Male Employees')"
      ]
     },
     "execution_count": 70,
     "metadata": {},
     "output_type": "execute_result"
    },
    {
     "data": {
      "image/png": "[encoded data removed]",
      "text/plain": [
       "<Figure size 432x288 with 1 Axes>"
      ]
     },
     "metadata": {
      "needs_background": "light"
     },
     "output_type": "display_data"
    }
   ],
   "source": [
    "sns.distplot(df_m['Total'])\n",
    "\n",
    "ax = plt.gca()\n",
    "\n",
    "ax.set_title(\"Distribution of Total revenue for Male Employees\")"
   ]
  },
  {
   "cell_type": "code",
   "execution_count": 71,
   "metadata": {},
   "outputs": [
    {
     "data": {
      "text/plain": [
       "False    689\n",
       "True      13\n",
       "dtype: int64"
      ]
     },
     "execution_count": 71,
     "metadata": {},
     "output_type": "execute_result"
    }
   ],
   "source": [
    "idx_outs = find_outliers_Z(df_m['Total'])\n",
    "idx_outs.value_counts()"
   ]
  },
  {
   "cell_type": "code",
   "execution_count": 72,
   "metadata": {},
   "outputs": [],
   "source": [
    "df_m = df_m[~idx_outs].copy()"
   ]
  },
  {
   "cell_type": "code",
   "execution_count": 73,
   "metadata": {},
   "outputs": [
    {
     "data": {
      "text/plain": [
       "689"
      ]
     },
     "execution_count": 73,
     "metadata": {},
     "output_type": "execute_result"
    }
   ],
   "source": [
    "len(df_m)"
   ]
  },
  {
   "cell_type": "markdown",
   "metadata": {},
   "source": [
    "# Tests for normality, variance, final test: Hypothesis 3"
   ]
  },
  {
   "cell_type": "code",
   "execution_count": 74,
   "metadata": {},
   "outputs": [
    {
     "name": "stdout",
     "output_type": "stream",
     "text": [
      "p = 0\n",
      "The null hypothesis can be rejected, data does not appear to be from a normal distribution\n"
     ]
    }
   ],
   "source": [
    "normal_test(df_f['Total'])"
   ]
  },
  {
   "cell_type": "code",
   "execution_count": 75,
   "metadata": {},
   "outputs": [
    {
     "name": "stdout",
     "output_type": "stream",
     "text": [
      "p = 0\n",
      "The null hypothesis can be rejected, data does not appear to be from a normal distribution\n"
     ]
    }
   ],
   "source": [
    "normal_test(df_m['Total'])"
   ]
  },
  {
   "cell_type": "code",
   "execution_count": 76,
   "metadata": {},
   "outputs": [
    {
     "name": "stdout",
     "output_type": "stream",
     "text": [
      "p = 0.5513\n",
      "The null hypothesis cannot be rejected, data appears to have equal variance.\n"
     ]
    }
   ],
   "source": [
    "variance_test(df_f['Total'], df_m['Total'])"
   ]
  },
  {
   "cell_type": "code",
   "execution_count": 77,
   "metadata": {
    "scrolled": true
   },
   "outputs": [
    {
     "name": "stdout",
     "output_type": "stream",
     "text": [
      "Statistics=-0.689, p=0.491\n",
      "The null hypothesis cannot be rejected, data appears to be from the same distribution.\n"
     ]
    }
   ],
   "source": [
    "t_test(df_f['Total'], df_m['Total'])"
   ]
  },
  {
   "cell_type": "markdown",
   "metadata": {},
   "source": [
    "# Post-hoc tests: Hypothesis 3"
   ]
  },
  {
   "cell_type": "code",
   "execution_count": 78,
   "metadata": {},
   "outputs": [
    {
     "data": {
      "text/plain": [
       "-0.03192447660296069"
      ]
     },
     "execution_count": 78,
     "metadata": {},
     "output_type": "execute_result"
    }
   ],
   "source": [
    "Cohen_d(df_f['Total'], df_m['Total'])"
   ]
  },
  {
   "cell_type": "markdown",
   "metadata": {},
   "source": [
    "## Suggests a small effect size."
   ]
  },
  {
   "cell_type": "code",
   "execution_count": 79,
   "metadata": {
    "scrolled": true
   },
   "outputs": [
    {
     "name": "stdout",
     "output_type": "stream",
     "text": [
      " Multiple Comparison of Means - Tukey HSD, FWER=0.05 \n",
      "=====================================================\n",
      "group1 group2 meandiff p-adj   lower    upper  reject\n",
      "-----------------------------------------------------\n",
      "     F      M  18.1013 0.4911 -33.4411 69.6438  False\n",
      "-----------------------------------------------------\n",
      "['F' 'M']\n"
     ]
    }
   ],
   "source": [
    "df_gen_conc = df_f.append(df_m)\n",
    "\n",
    "tukey_test(df_gen_conc['Total'],df_gen_conc['Gender'])"
   ]
  },
  {
   "cell_type": "markdown",
   "metadata": {},
   "source": [
    "## Bar Plot: Hypothesis 3"
   ]
  },
  {
   "cell_type": "code",
   "execution_count": 80,
   "metadata": {
    "scrolled": true
   },
   "outputs": [
    {
     "data": {
      "text/plain": [
       "Text(0.5, 1.0, 'Total revenue by Gender')"
      ]
     },
     "execution_count": 80,
     "metadata": {},
     "output_type": "execute_result"
    },
    {
     "data": {
      "image/png": "[encoded data removed]",
      "text/plain": [
       "<Figure size 432x288 with 1 Axes>"
      ]
     },
     "metadata": {
      "needs_background": "light"
     },
     "output_type": "display_data"
    }
   ],
   "source": [
    "sns.barplot(data=df_gen_conc, x=\"Gender\", y=\"Total\")\n",
    "\n",
    "ax = plt.gca()\n",
    "\n",
    "ax.set_title(\"Total revenue by Gender\")"
   ]
  },
  {
   "cell_type": "markdown",
   "metadata": {},
   "source": [
    "## Catplot: Hypothesis 3"
   ]
  },
  {
   "cell_type": "code",
   "execution_count": 81,
   "metadata": {},
   "outputs": [
    {
     "data": {
      "text/plain": [
       "Text(0.5, 1, 'Total revenue by Gender')"
      ]
     },
     "execution_count": 81,
     "metadata": {},
     "output_type": "execute_result"
    },
    {
     "data": {
      "image/png": "[encoded data removed]",
      "text/plain": [
       "<Figure size 360x360 with 1 Axes>"
      ]
     },
     "metadata": {
      "needs_background": "light"
     },
     "output_type": "display_data"
    }
   ],
   "source": [
    "sns.catplot(data=df_gen_conc, x=\"Gender\", y=\"Total\")\n",
    "\n",
    "ax = plt.gca()\n",
    "\n",
    "ax.set_title(\"Total revenue by Gender\")"
   ]
  },
  {
   "cell_type": "markdown",
   "metadata": {},
   "source": [
    "# Recommendations and Summary: Hypothesis 3"
   ]
  },
  {
   "cell_type": "markdown",
   "metadata": {},
   "source": [
    "### -There's no significant difference between genders represented and total sales."
   ]
  },
  {
   "cell_type": "markdown",
   "metadata": {},
   "source": [
    "# TBD: Add more rec and summary"
   ]
  },
  {
   "cell_type": "markdown",
   "metadata": {},
   "source": [
    "# Hypothesis 4: \n",
    "### - Giving out more discounts = more total revenue? By employee?\n",
    "### - Or just look at total if this proves difficult\n",
    "### - Getting average discount by employee and amount of orders\n",
    "### - What's a good metric here?\n",
    "### - Null Hypothesis:\n",
    "### - Alternative Hypothesis:"
   ]
  },
  {
   "cell_type": "code",
   "execution_count": 82,
   "metadata": {},
   "outputs": [
    {
     "data": {
      "text/html": [
       "<div>\n",
       "<style scoped>\n",
       "    .dataframe tbody tr th:only-of-type {\n",
       "        vertical-align: middle;\n",
       "    }\n",
       "\n",
       "    .dataframe tbody tr th {\n",
       "        vertical-align: top;\n",
       "    }\n",
       "\n",
       "    .dataframe thead th {\n",
       "        text-align: right;\n",
       "    }\n",
       "</style>\n",
       "<table border=\"1\" class=\"dataframe\">\n",
       "  <thead>\n",
       "    <tr style=\"text-align: right;\">\n",
       "      <th></th>\n",
       "      <th>EmployeeId</th>\n",
       "      <th>LastName</th>\n",
       "      <th>FirstName</th>\n",
       "      <th>AvgDiscount</th>\n",
       "      <th>COUNT(OrderID)</th>\n",
       "    </tr>\n",
       "  </thead>\n",
       "  <tbody>\n",
       "    <tr>\n",
       "      <td>0</td>\n",
       "      <td>1</td>\n",
       "      <td>Davolio</td>\n",
       "      <td>Nancy</td>\n",
       "      <td>0.049246</td>\n",
       "      <td>345</td>\n",
       "    </tr>\n",
       "    <tr>\n",
       "      <td>1</td>\n",
       "      <td>2</td>\n",
       "      <td>Fuller</td>\n",
       "      <td>Andrew</td>\n",
       "      <td>0.043776</td>\n",
       "      <td>241</td>\n",
       "    </tr>\n",
       "    <tr>\n",
       "      <td>2</td>\n",
       "      <td>3</td>\n",
       "      <td>Leverling</td>\n",
       "      <td>Janet</td>\n",
       "      <td>0.049688</td>\n",
       "      <td>321</td>\n",
       "    </tr>\n",
       "    <tr>\n",
       "      <td>3</td>\n",
       "      <td>4</td>\n",
       "      <td>Peacock</td>\n",
       "      <td>Margaret</td>\n",
       "      <td>0.061310</td>\n",
       "      <td>420</td>\n",
       "    </tr>\n",
       "    <tr>\n",
       "      <td>4</td>\n",
       "      <td>5</td>\n",
       "      <td>Buchanan</td>\n",
       "      <td>Steven</td>\n",
       "      <td>0.066667</td>\n",
       "      <td>117</td>\n",
       "    </tr>\n",
       "    <tr>\n",
       "      <td>5</td>\n",
       "      <td>6</td>\n",
       "      <td>Suyama</td>\n",
       "      <td>Michael</td>\n",
       "      <td>0.054464</td>\n",
       "      <td>168</td>\n",
       "    </tr>\n",
       "    <tr>\n",
       "      <td>6</td>\n",
       "      <td>7</td>\n",
       "      <td>King</td>\n",
       "      <td>Robert</td>\n",
       "      <td>0.073580</td>\n",
       "      <td>176</td>\n",
       "    </tr>\n",
       "    <tr>\n",
       "      <td>7</td>\n",
       "      <td>8</td>\n",
       "      <td>Callahan</td>\n",
       "      <td>Laura</td>\n",
       "      <td>0.056154</td>\n",
       "      <td>260</td>\n",
       "    </tr>\n",
       "    <tr>\n",
       "      <td>8</td>\n",
       "      <td>9</td>\n",
       "      <td>Dodsworth</td>\n",
       "      <td>Anne</td>\n",
       "      <td>0.068224</td>\n",
       "      <td>107</td>\n",
       "    </tr>\n",
       "  </tbody>\n",
       "</table>\n",
       "</div>"
      ],
      "text/plain": [
       "   EmployeeId   LastName FirstName  AvgDiscount  COUNT(OrderID)\n",
       "0           1    Davolio     Nancy     0.049246             345\n",
       "1           2     Fuller    Andrew     0.043776             241\n",
       "2           3  Leverling     Janet     0.049688             321\n",
       "3           4    Peacock  Margaret     0.061310             420\n",
       "4           5   Buchanan    Steven     0.066667             117\n",
       "5           6     Suyama   Michael     0.054464             168\n",
       "6           7       King    Robert     0.073580             176\n",
       "7           8   Callahan     Laura     0.056154             260\n",
       "8           9  Dodsworth      Anne     0.068224             107"
      ]
     },
     "metadata": {},
     "output_type": "display_data"
    }
   ],
   "source": [
    "q3= \"\"\"\n",
    "    SELECT\n",
    "        O.EmployeeID,\n",
    "        E.LastName,\n",
    "        E.Firstname,\n",
    "        AVG(OD.Discount) AS AvgDiscount,\n",
    "        COUNT(OrderID)\n",
    "    FROM OrderDetail as OD\n",
    "    JOIN `Order` AS O ON OD.OrderID = O.Id\n",
    "    JOIN Employee AS E on E.Id = O.EmployeeId\n",
    "    GROUP BY O.EmployeeID\n",
    "    ORDER BY EmployeeId ASC\n",
    "\"\"\"\n",
    "cursor = c.execute(q3)\n",
    "names = [description[0] for description in cursor.description]\n",
    "df3 = pd.DataFrame(cursor.fetchall(),columns=names)\n",
    "display(df3)"
   ]
  },
  {
   "cell_type": "markdown",
   "metadata": {},
   "source": [
    "# NOTES: \n",
    "- Get a good metric on the last hypothesis\n",
    "- State null and alternative hypotheses explicitly\n",
    "- Clean up notebook\n",
    "- Bar plots and other plots(bar, cat, strip)\n",
    "- Summaries including p value, effect size, takeaway"
   ]
  },
  {
   "cell_type": "code",
   "execution_count": 83,
   "metadata": {},
   "outputs": [
    {
     "data": {
      "application/vnd.plotly.v1+json": {
       "config": {
        "plotlyServerURL": "https://plot.ly"
       },
       "data": [
        {
         "type": "bar",
         "y": [
          2,
          3,
          1
         ]
        }
       ],
       "layout": {
        "template": {
         "data": {
          "bar": [
           {
            "error_x": {
             "color": "#2a3f5f"
            },
            "error_y": {
             "color": "#2a3f5f"
            },
            "marker": {
             "line": {
              "color": "#E5ECF6",
              "width": 0.5
             }
            },
            "type": "bar"
           }
          ],
          "barpolar": [
           {
            "marker": {
             "line": {
              "color": "#E5ECF6",
              "width": 0.5
             }
            },
            "type": "barpolar"
           }
          ],
          "carpet": [
           {
            "aaxis": {
             "endlinecolor": "#2a3f5f",
             "gridcolor": "white",
             "linecolor": "white",
             "minorgridcolor": "white",
             "startlinecolor": "#2a3f5f"
            },
            "baxis": {
             "endlinecolor": "#2a3f5f",
             "gridcolor": "white",
             "linecolor": "white",
             "minorgridcolor": "white",
             "startlinecolor": "#2a3f5f"
            },
            "type": "carpet"
           }
          ],
          "choropleth": [
           {
            "colorbar": {
             "outlinewidth": 0,
             "ticks": ""
            },
            "type": "choropleth"
           }
          ],
          "contour": [
           {
            "colorbar": {
             "outlinewidth": 0,
             "ticks": ""
            },
            "colorscale": [
             [
              0,
              "#0d0887"
             ],
             [
              0.1111111111111111,
              "#46039f"
             ],
             [
              0.2222222222222222,
              "#7201a8"
             ],
             [
              0.3333333333333333,
              "#9c179e"
             ],
             [
              0.4444444444444444,
              "#bd3786"
             ],
             [
              0.5555555555555556,
              "#d8576b"
             ],
             [
              0.6666666666666666,
              "#ed7953"
             ],
             [
              0.7777777777777778,
              "#fb9f3a"
             ],
             [
              0.8888888888888888,
              "#fdca26"
             ],
             [
              1,
              "#f0f921"
             ]
            ],
            "type": "contour"
           }
          ],
          "contourcarpet": [
           {
            "colorbar": {
             "outlinewidth": 0,
             "ticks": ""
            },
            "type": "contourcarpet"
           }
          ],
          "heatmap": [
           {
            "colorbar": {
             "outlinewidth": 0,
             "ticks": ""
            },
            "colorscale": [
             [
              0,
              "#0d0887"
             ],
             [
              0.1111111111111111,
              "#46039f"
             ],
             [
              0.2222222222222222,
              "#7201a8"
             ],
             [
              0.3333333333333333,
              "#9c179e"
             ],
             [
              0.4444444444444444,
              "#bd3786"
             ],
             [
              0.5555555555555556,
              "#d8576b"
             ],
             [
              0.6666666666666666,
              "#ed7953"
             ],
             [
              0.7777777777777778,
              "#fb9f3a"
             ],
             [
              0.8888888888888888,
              "#fdca26"
             ],
             [
              1,
              "#f0f921"
             ]
            ],
            "type": "heatmap"
           }
          ],
          "heatmapgl": [
           {
            "colorbar": {
             "outlinewidth": 0,
             "ticks": ""
            },
            "colorscale": [
             [
              0,
              "#0d0887"
             ],
             [
              0.1111111111111111,
              "#46039f"
             ],
             [
              0.2222222222222222,
              "#7201a8"
             ],
             [
              0.3333333333333333,
              "#9c179e"
             ],
             [
              0.4444444444444444,
              "#bd3786"
             ],
             [
              0.5555555555555556,
              "#d8576b"
             ],
             [
              0.6666666666666666,
              "#ed7953"
             ],
             [
              0.7777777777777778,
              "#fb9f3a"
             ],
             [
              0.8888888888888888,
              "#fdca26"
             ],
             [
              1,
              "#f0f921"
             ]
            ],
            "type": "heatmapgl"
           }
          ],
          "histogram": [
           {
            "marker": {
             "colorbar": {
              "outlinewidth": 0,
              "ticks": ""
             }
            },
            "type": "histogram"
           }
          ],
          "histogram2d": [
           {
            "colorbar": {
             "outlinewidth": 0,
             "ticks": ""
            },
            "colorscale": [
             [
              0,
              "#0d0887"
             ],
             [
              0.1111111111111111,
              "#46039f"
             ],
             [
              0.2222222222222222,
              "#7201a8"
             ],
             [
              0.3333333333333333,
              "#9c179e"
             ],
             [
              0.4444444444444444,
              "#bd3786"
             ],
             [
              0.5555555555555556,
              "#d8576b"
             ],
             [
              0.6666666666666666,
              "#ed7953"
             ],
             [
              0.7777777777777778,
              "#fb9f3a"
             ],
             [
              0.8888888888888888,
              "#fdca26"
             ],
             [
              1,
              "#f0f921"
             ]
            ],
            "type": "histogram2d"
           }
          ],
          "histogram2dcontour": [
           {
            "colorbar": {
             "outlinewidth": 0,
             "ticks": ""
            },
            "colorscale": [
             [
              0,
              "#0d0887"
             ],
             [
              0.1111111111111111,
              "#46039f"
             ],
             [
              0.2222222222222222,
              "#7201a8"
             ],
             [
              0.3333333333333333,
              "#9c179e"
             ],
             [
              0.4444444444444444,
              "#bd3786"
             ],
             [
              0.5555555555555556,
              "#d8576b"
             ],
             [
              0.6666666666666666,
              "#ed7953"
             ],
             [
              0.7777777777777778,
              "#fb9f3a"
             ],
             [
              0.8888888888888888,
              "#fdca26"
             ],
             [
              1,
              "#f0f921"
             ]
            ],
            "type": "histogram2dcontour"
           }
          ],
          "mesh3d": [
           {
            "colorbar": {
             "outlinewidth": 0,
             "ticks": ""
            },
            "type": "mesh3d"
           }
          ],
          "parcoords": [
           {
            "line": {
             "colorbar": {
              "outlinewidth": 0,
              "ticks": ""
             }
            },
            "type": "parcoords"
           }
          ],
          "pie": [
           {
            "automargin": true,
            "type": "pie"
           }
          ],
          "scatter": [
           {
            "marker": {
             "colorbar": {
              "outlinewidth": 0,
              "ticks": ""
             }
            },
            "type": "scatter"
           }
          ],
          "scatter3d": [
           {
            "line": {
             "colorbar": {
              "outlinewidth": 0,
              "ticks": ""
             }
            },
            "marker": {
             "colorbar": {
              "outlinewidth": 0,
              "ticks": ""
             }
            },
            "type": "scatter3d"
           }
          ],
          "scattercarpet": [
           {
            "marker": {
             "colorbar": {
              "outlinewidth": 0,
              "ticks": ""
             }
            },
            "type": "scattercarpet"
           }
          ],
          "scattergeo": [
           {
            "marker": {
             "colorbar": {
              "outlinewidth": 0,
              "ticks": ""
             }
            },
            "type": "scattergeo"
           }
          ],
          "scattergl": [
           {
            "marker": {
             "colorbar": {
              "outlinewidth": 0,
              "ticks": ""
             }
            },
            "type": "scattergl"
           }
          ],
          "scattermapbox": [
           {
            "marker": {
             "colorbar": {
              "outlinewidth": 0,
              "ticks": ""
             }
            },
            "type": "scattermapbox"
           }
          ],
          "scatterpolar": [
           {
            "marker": {
             "colorbar": {
              "outlinewidth": 0,
              "ticks": ""
             }
            },
            "type": "scatterpolar"
           }
          ],
          "scatterpolargl": [
           {
            "marker": {
             "colorbar": {
              "outlinewidth": 0,
              "ticks": ""
             }
            },
            "type": "scatterpolargl"
           }
          ],
          "scatterternary": [
           {
            "marker": {
             "colorbar": {
              "outlinewidth": 0,
              "ticks": ""
             }
            },
            "type": "scatterternary"
           }
          ],
          "surface": [
           {
            "colorbar": {
             "outlinewidth": 0,
             "ticks": ""
            },
            "colorscale": [
             [
              0,
              "#0d0887"
             ],
             [
              0.1111111111111111,
              "#46039f"
             ],
             [
              0.2222222222222222,
              "#7201a8"
             ],
             [
              0.3333333333333333,
              "#9c179e"
             ],
             [
              0.4444444444444444,
              "#bd3786"
             ],
             [
              0.5555555555555556,
              "#d8576b"
             ],
             [
              0.6666666666666666,
              "#ed7953"
             ],
             [
              0.7777777777777778,
              "#fb9f3a"
             ],
             [
              0.8888888888888888,
              "#fdca26"
             ],
             [
              1,
              "#f0f921"
             ]
            ],
            "type": "surface"
           }
          ],
          "table": [
           {
            "cells": {
             "fill": {
              "color": "#EBF0F8"
             },
             "line": {
              "color": "white"
             }
            },
            "header": {
             "fill": {
              "color": "#C8D4E3"
             },
             "line": {
              "color": "white"
             }
            },
            "type": "table"
           }
          ]
         },
         "layout": {
          "annotationdefaults": {
           "arrowcolor": "#2a3f5f",
           "arrowhead": 0,
           "arrowwidth": 1
          },
          "coloraxis": {
           "colorbar": {
            "outlinewidth": 0,
            "ticks": ""
           }
          },
          "colorscale": {
           "diverging": [
            [
             0,
             "#8e0152"
            ],
            [
             0.1,
             "#c51b7d"
            ],
            [
             0.2,
             "#de77ae"
            ],
            [
             0.3,
             "#f1b6da"
            ],
            [
             0.4,
             "#fde0ef"
            ],
            [
             0.5,
             "#f7f7f7"
            ],
            [
             0.6,
             "#e6f5d0"
            ],
            [
             0.7,
             "#b8e186"
            ],
            [
             0.8,
             "#7fbc41"
            ],
            [
             0.9,
             "#4d9221"
            ],
            [
             1,
             "#276419"
            ]
           ],
           "sequential": [
            [
             0,
             "#0d0887"
            ],
            [
             0.1111111111111111,
             "#46039f"
            ],
            [
             0.2222222222222222,
             "#7201a8"
            ],
            [
             0.3333333333333333,
             "#9c179e"
            ],
            [
             0.4444444444444444,
             "#bd3786"
            ],
            [
             0.5555555555555556,
             "#d8576b"
            ],
            [
             0.6666666666666666,
             "#ed7953"
            ],
            [
             0.7777777777777778,
             "#fb9f3a"
            ],
            [
             0.8888888888888888,
             "#fdca26"
            ],
            [
             1,
             "#f0f921"
            ]
           ],
           "sequentialminus": [
            [
             0,
             "#0d0887"
            ],
            [
             0.1111111111111111,
             "#46039f"
            ],
            [
             0.2222222222222222,
             "#7201a8"
            ],
            [
             0.3333333333333333,
             "#9c179e"
            ],
            [
             0.4444444444444444,
             "#bd3786"
            ],
            [
             0.5555555555555556,
             "#d8576b"
            ],
            [
             0.6666666666666666,
             "#ed7953"
            ],
            [
             0.7777777777777778,
             "#fb9f3a"
            ],
            [
             0.8888888888888888,
             "#fdca26"
            ],
            [
             1,
             "#f0f921"
            ]
           ]
          },
          "colorway": [
           "#636efa",
           "#EF553B",
           "#00cc96",
           "#ab63fa",
           "#FFA15A",
           "#19d3f3",
           "#FF6692",
           "#B6E880",
           "#FF97FF",
           "#FECB52"
          ],
          "font": {
           "color": "#2a3f5f"
          },
          "geo": {
           "bgcolor": "white",
           "lakecolor": "white",
           "landcolor": "#E5ECF6",
           "showlakes": true,
           "showland": true,
           "subunitcolor": "white"
          },
          "hoverlabel": {
           "align": "left"
          },
          "hovermode": "closest",
          "mapbox": {
           "style": "light"
          },
          "paper_bgcolor": "white",
          "plot_bgcolor": "#E5ECF6",
          "polar": {
           "angularaxis": {
            "gridcolor": "white",
            "linecolor": "white",
            "ticks": ""
           },
           "bgcolor": "#E5ECF6",
           "radialaxis": {
            "gridcolor": "white",
            "linecolor": "white",
            "ticks": ""
           }
          },
          "scene": {
           "xaxis": {
            "backgroundcolor": "#E5ECF6",
            "gridcolor": "white",
            "gridwidth": 2,
            "linecolor": "white",
            "showbackground": true,
            "ticks": "",
            "zerolinecolor": "white"
           },
           "yaxis": {
            "backgroundcolor": "#E5ECF6",
            "gridcolor": "white",
            "gridwidth": 2,
            "linecolor": "white",
            "showbackground": true,
            "ticks": "",
            "zerolinecolor": "white"
           },
           "zaxis": {
            "backgroundcolor": "#E5ECF6",
            "gridcolor": "white",
            "gridwidth": 2,
            "linecolor": "white",
            "showbackground": true,
            "ticks": "",
            "zerolinecolor": "white"
           }
          },
          "shapedefaults": {
           "line": {
            "color": "#2a3f5f"
           }
          },
          "ternary": {
           "aaxis": {
            "gridcolor": "white",
            "linecolor": "white",
            "ticks": ""
           },
           "baxis": {
            "gridcolor": "white",
            "linecolor": "white",
            "ticks": ""
           },
           "bgcolor": "#E5ECF6",
           "caxis": {
            "gridcolor": "white",
            "linecolor": "white",
            "ticks": ""
           }
          },
          "title": {
           "x": 0.05
          },
          "xaxis": {
           "automargin": true,
           "gridcolor": "white",
           "linecolor": "white",
           "ticks": "",
           "title": {
            "standoff": 15
           },
           "zerolinecolor": "white",
           "zerolinewidth": 2
          },
          "yaxis": {
           "automargin": true,
           "gridcolor": "white",
           "linecolor": "white",
           "ticks": "",
           "title": {
            "standoff": 15
           },
           "zerolinecolor": "white",
           "zerolinewidth": 2
          }
         }
        }
       }
      },
      "text/html": [
       "<div>\n",
       "        \n",
       "        \n",
       "            <div id=\"517756b7-2b4e-484a-9282-b54148f40191\" class=\"plotly-graph-div\" style=\"height:525px; width:100%;\"></div>\n",
       "            <script type=\"text/javascript\">\n",
       "                require([\"plotly\"], function(Plotly) {\n",
       "                    window.PLOTLYENV=window.PLOTLYENV || {};\n",
       "                    \n",
       "                if (document.getElementById(\"517756b7-2b4e-484a-9282-b54148f40191\")) {\n",
       "                    Plotly.newPlot(\n",
       "                        '517756b7-2b4e-484a-9282-b54148f40191',\n",
       "                        [{\"type\": \"bar\", \"y\": [2, 3, 1]}],\n",
       "                        {\"template\": {\"data\": {\"bar\": [{\"error_x\": {\"color\": \"#2a3f5f\"}, \"error_y\": {\"color\": \"#2a3f5f\"}, \"marker\": {\"line\": {\"color\": \"#E5ECF6\", \"width\": 0.5}}, \"type\": \"bar\"}], \"barpolar\": [{\"marker\": {\"line\": {\"color\": \"#E5ECF6\", \"width\": 0.5}}, \"type\": \"barpolar\"}], \"carpet\": [{\"aaxis\": {\"endlinecolor\": \"#2a3f5f\", \"gridcolor\": \"white\", \"linecolor\": \"white\", \"minorgridcolor\": \"white\", \"startlinecolor\": \"#2a3f5f\"}, \"baxis\": {\"endlinecolor\": \"#2a3f5f\", \"gridcolor\": \"white\", \"linecolor\": \"white\", \"minorgridcolor\": \"white\", \"startlinecolor\": \"#2a3f5f\"}, \"type\": \"carpet\"}], \"choropleth\": [{\"colorbar\": {\"outlinewidth\": 0, \"ticks\": \"\"}, \"type\": \"choropleth\"}], \"contour\": [{\"colorbar\": {\"outlinewidth\": 0, \"ticks\": \"\"}, \"colorscale\": [[0.0, \"#0d0887\"], [0.1111111111111111, \"#46039f\"], [0.2222222222222222, \"#7201a8\"], [0.3333333333333333, \"#9c179e\"], [0.4444444444444444, \"#bd3786\"], [0.5555555555555556, \"#d8576b\"], [0.6666666666666666, \"#ed7953\"], [0.7777777777777778, \"#fb9f3a\"], [0.8888888888888888, \"#fdca26\"], [1.0, \"#f0f921\"]], \"type\": \"contour\"}], \"contourcarpet\": [{\"colorbar\": {\"outlinewidth\": 0, \"ticks\": \"\"}, \"type\": \"contourcarpet\"}], \"heatmap\": [{\"colorbar\": {\"outlinewidth\": 0, \"ticks\": \"\"}, \"colorscale\": [[0.0, \"#0d0887\"], [0.1111111111111111, \"#46039f\"], [0.2222222222222222, \"#7201a8\"], [0.3333333333333333, \"#9c179e\"], [0.4444444444444444, \"#bd3786\"], [0.5555555555555556, \"#d8576b\"], [0.6666666666666666, \"#ed7953\"], [0.7777777777777778, \"#fb9f3a\"], [0.8888888888888888, \"#fdca26\"], [1.0, \"#f0f921\"]], \"type\": \"heatmap\"}], \"heatmapgl\": [{\"colorbar\": {\"outlinewidth\": 0, \"ticks\": \"\"}, \"colorscale\": [[0.0, \"#0d0887\"], [0.1111111111111111, \"#46039f\"], [0.2222222222222222, \"#7201a8\"], [0.3333333333333333, \"#9c179e\"], [0.4444444444444444, \"#bd3786\"], [0.5555555555555556, \"#d8576b\"], [0.6666666666666666, \"#ed7953\"], [0.7777777777777778, \"#fb9f3a\"], [0.8888888888888888, \"#fdca26\"], [1.0, \"#f0f921\"]], \"type\": \"heatmapgl\"}], \"histogram\": [{\"marker\": {\"colorbar\": {\"outlinewidth\": 0, \"ticks\": \"\"}}, \"type\": \"histogram\"}], \"histogram2d\": [{\"colorbar\": {\"outlinewidth\": 0, \"ticks\": \"\"}, \"colorscale\": [[0.0, \"#0d0887\"], [0.1111111111111111, \"#46039f\"], [0.2222222222222222, \"#7201a8\"], [0.3333333333333333, \"#9c179e\"], [0.4444444444444444, \"#bd3786\"], [0.5555555555555556, \"#d8576b\"], [0.6666666666666666, \"#ed7953\"], [0.7777777777777778, \"#fb9f3a\"], [0.8888888888888888, \"#fdca26\"], [1.0, \"#f0f921\"]], \"type\": \"histogram2d\"}], \"histogram2dcontour\": [{\"colorbar\": {\"outlinewidth\": 0, \"ticks\": \"\"}, \"colorscale\": [[0.0, \"#0d0887\"], [0.1111111111111111, \"#46039f\"], [0.2222222222222222, \"#7201a8\"], [0.3333333333333333, \"#9c179e\"], [0.4444444444444444, \"#bd3786\"], [0.5555555555555556, \"#d8576b\"], [0.6666666666666666, \"#ed7953\"], [0.7777777777777778, \"#fb9f3a\"], [0.8888888888888888, \"#fdca26\"], [1.0, \"#f0f921\"]], \"type\": \"histogram2dcontour\"}], \"mesh3d\": [{\"colorbar\": {\"outlinewidth\": 0, \"ticks\": \"\"}, \"type\": \"mesh3d\"}], \"parcoords\": [{\"line\": {\"colorbar\": {\"outlinewidth\": 0, \"ticks\": \"\"}}, \"type\": \"parcoords\"}], \"pie\": [{\"automargin\": true, \"type\": \"pie\"}], \"scatter\": [{\"marker\": {\"colorbar\": {\"outlinewidth\": 0, \"ticks\": \"\"}}, \"type\": \"scatter\"}], \"scatter3d\": [{\"line\": {\"colorbar\": {\"outlinewidth\": 0, \"ticks\": \"\"}}, \"marker\": {\"colorbar\": {\"outlinewidth\": 0, \"ticks\": \"\"}}, \"type\": \"scatter3d\"}], \"scattercarpet\": [{\"marker\": {\"colorbar\": {\"outlinewidth\": 0, \"ticks\": \"\"}}, \"type\": \"scattercarpet\"}], \"scattergeo\": [{\"marker\": {\"colorbar\": {\"outlinewidth\": 0, \"ticks\": \"\"}}, \"type\": \"scattergeo\"}], \"scattergl\": [{\"marker\": {\"colorbar\": {\"outlinewidth\": 0, \"ticks\": \"\"}}, \"type\": \"scattergl\"}], \"scattermapbox\": [{\"marker\": {\"colorbar\": {\"outlinewidth\": 0, \"ticks\": \"\"}}, \"type\": \"scattermapbox\"}], \"scatterpolar\": [{\"marker\": {\"colorbar\": {\"outlinewidth\": 0, \"ticks\": \"\"}}, \"type\": \"scatterpolar\"}], \"scatterpolargl\": [{\"marker\": {\"colorbar\": {\"outlinewidth\": 0, \"ticks\": \"\"}}, \"type\": \"scatterpolargl\"}], \"scatterternary\": [{\"marker\": {\"colorbar\": {\"outlinewidth\": 0, \"ticks\": \"\"}}, \"type\": \"scatterternary\"}], \"surface\": [{\"colorbar\": {\"outlinewidth\": 0, \"ticks\": \"\"}, \"colorscale\": [[0.0, \"#0d0887\"], [0.1111111111111111, \"#46039f\"], [0.2222222222222222, \"#7201a8\"], [0.3333333333333333, \"#9c179e\"], [0.4444444444444444, \"#bd3786\"], [0.5555555555555556, \"#d8576b\"], [0.6666666666666666, \"#ed7953\"], [0.7777777777777778, \"#fb9f3a\"], [0.8888888888888888, \"#fdca26\"], [1.0, \"#f0f921\"]], \"type\": \"surface\"}], \"table\": [{\"cells\": {\"fill\": {\"color\": \"#EBF0F8\"}, \"line\": {\"color\": \"white\"}}, \"header\": {\"fill\": {\"color\": \"#C8D4E3\"}, \"line\": {\"color\": \"white\"}}, \"type\": \"table\"}]}, \"layout\": {\"annotationdefaults\": {\"arrowcolor\": \"#2a3f5f\", \"arrowhead\": 0, \"arrowwidth\": 1}, \"coloraxis\": {\"colorbar\": {\"outlinewidth\": 0, \"ticks\": \"\"}}, \"colorscale\": {\"diverging\": [[0, \"#8e0152\"], [0.1, \"#c51b7d\"], [0.2, \"#de77ae\"], [0.3, \"#f1b6da\"], [0.4, \"#fde0ef\"], [0.5, \"#f7f7f7\"], [0.6, \"#e6f5d0\"], [0.7, \"#b8e186\"], [0.8, \"#7fbc41\"], [0.9, \"#4d9221\"], [1, \"#276419\"]], \"sequential\": [[0.0, \"#0d0887\"], [0.1111111111111111, \"#46039f\"], [0.2222222222222222, \"#7201a8\"], [0.3333333333333333, \"#9c179e\"], [0.4444444444444444, \"#bd3786\"], [0.5555555555555556, \"#d8576b\"], [0.6666666666666666, \"#ed7953\"], [0.7777777777777778, \"#fb9f3a\"], [0.8888888888888888, \"#fdca26\"], [1.0, \"#f0f921\"]], \"sequentialminus\": [[0.0, \"#0d0887\"], [0.1111111111111111, \"#46039f\"], [0.2222222222222222, \"#7201a8\"], [0.3333333333333333, \"#9c179e\"], [0.4444444444444444, \"#bd3786\"], [0.5555555555555556, \"#d8576b\"], [0.6666666666666666, \"#ed7953\"], [0.7777777777777778, \"#fb9f3a\"], [0.8888888888888888, \"#fdca26\"], [1.0, \"#f0f921\"]]}, \"colorway\": [\"#636efa\", \"#EF553B\", \"#00cc96\", \"#ab63fa\", \"#FFA15A\", \"#19d3f3\", \"#FF6692\", \"#B6E880\", \"#FF97FF\", \"#FECB52\"], \"font\": {\"color\": \"#2a3f5f\"}, \"geo\": {\"bgcolor\": \"white\", \"lakecolor\": \"white\", \"landcolor\": \"#E5ECF6\", \"showlakes\": true, \"showland\": true, \"subunitcolor\": \"white\"}, \"hoverlabel\": {\"align\": \"left\"}, \"hovermode\": \"closest\", \"mapbox\": {\"style\": \"light\"}, \"paper_bgcolor\": \"white\", \"plot_bgcolor\": \"#E5ECF6\", \"polar\": {\"angularaxis\": {\"gridcolor\": \"white\", \"linecolor\": \"white\", \"ticks\": \"\"}, \"bgcolor\": \"#E5ECF6\", \"radialaxis\": {\"gridcolor\": \"white\", \"linecolor\": \"white\", \"ticks\": \"\"}}, \"scene\": {\"xaxis\": {\"backgroundcolor\": \"#E5ECF6\", \"gridcolor\": \"white\", \"gridwidth\": 2, \"linecolor\": \"white\", \"showbackground\": true, \"ticks\": \"\", \"zerolinecolor\": \"white\"}, \"yaxis\": {\"backgroundcolor\": \"#E5ECF6\", \"gridcolor\": \"white\", \"gridwidth\": 2, \"linecolor\": \"white\", \"showbackground\": true, \"ticks\": \"\", \"zerolinecolor\": \"white\"}, \"zaxis\": {\"backgroundcolor\": \"#E5ECF6\", \"gridcolor\": \"white\", \"gridwidth\": 2, \"linecolor\": \"white\", \"showbackground\": true, \"ticks\": \"\", \"zerolinecolor\": \"white\"}}, \"shapedefaults\": {\"line\": {\"color\": \"#2a3f5f\"}}, \"ternary\": {\"aaxis\": {\"gridcolor\": \"white\", \"linecolor\": \"white\", \"ticks\": \"\"}, \"baxis\": {\"gridcolor\": \"white\", \"linecolor\": \"white\", \"ticks\": \"\"}, \"bgcolor\": \"#E5ECF6\", \"caxis\": {\"gridcolor\": \"white\", \"linecolor\": \"white\", \"ticks\": \"\"}}, \"title\": {\"x\": 0.05}, \"xaxis\": {\"automargin\": true, \"gridcolor\": \"white\", \"linecolor\": \"white\", \"ticks\": \"\", \"title\": {\"standoff\": 15}, \"zerolinecolor\": \"white\", \"zerolinewidth\": 2}, \"yaxis\": {\"automargin\": true, \"gridcolor\": \"white\", \"linecolor\": \"white\", \"ticks\": \"\", \"title\": {\"standoff\": 15}, \"zerolinecolor\": \"white\", \"zerolinewidth\": 2}}}},\n",
       "                        {\"responsive\": true}\n",
       "                    ).then(function(){\n",
       "                            \n",
       "var gd = document.getElementById('517756b7-2b4e-484a-9282-b54148f40191');\n",
       "var x = new MutationObserver(function (mutations, observer) {{\n",
       "        var display = window.getComputedStyle(gd).display;\n",
       "        if (!display || display === 'none') {{\n",
       "            console.log([gd, 'removed!']);\n",
       "            Plotly.purge(gd);\n",
       "            observer.disconnect();\n",
       "        }}\n",
       "}});\n",
       "\n",
       "// Listen for the removal of the full notebook cells\n",
       "var notebookContainer = gd.closest('#notebook-container');\n",
       "if (notebookContainer) {{\n",
       "    x.observe(notebookContainer, {childList: true});\n",
       "}}\n",
       "\n",
       "// Listen for the clearing of the current output cell\n",
       "var outputEl = gd.closest('.output');\n",
       "if (outputEl) {{\n",
       "    x.observe(outputEl, {childList: true});\n",
       "}}\n",
       "\n",
       "                        })\n",
       "                };\n",
       "                });\n",
       "            </script>\n",
       "        </div>"
      ]
     },
     "metadata": {},
     "output_type": "display_data"
    }
   ],
   "source": [
    "import plotly.graph_objects as go\n",
    "fig = go.Figure(data=go.Bar(y=[2, 3, 1]))\n",
    "fig.show()"
   ]
  },
  {
   "cell_type": "code",
   "execution_count": null,
   "metadata": {},
   "outputs": [],
   "source": []
  }
 ],
 "metadata": {
  "kernelspec": {
   "display_name": "Python [conda env:learn-env] *",
   "language": "python",
   "name": "conda-env-learn-env-py"
  },
  "language_info": {
   "codemirror_mode": {
    "name": "ipython",
    "version": 3
   },
   "file_extension": ".py",
   "mimetype": "text/x-python",
   "name": "python",
   "nbconvert_exporter": "python",
   "pygments_lexer": "ipython3",
   "version": "3.6.9"
  },
  "toc": {
   "base_numbering": 1,
   "nav_menu": {},
   "number_sections": false,
   "sideBar": true,
   "skip_h1_title": false,
   "title_cell": "Table of Contents",
   "title_sidebar": "Contents",
   "toc_cell": true,
   "toc_position": {
    "height": "calc(100% - 180px)",
    "left": "10px",
    "top": "150px",
    "width": "165px"
   },
   "toc_section_display": true,
   "toc_window_display": true
  },
  "varInspector": {
   "cols": {
    "lenName": 16,
    "lenType": 16,
    "lenVar": 40
   },
   "kernels_config": {
    "python": {
     "delete_cmd_postfix": "",
     "delete_cmd_prefix": "del ",
     "library": "var_list.py",
     "varRefreshCmd": "print(var_dic_list())"
    },
    "r": {
     "delete_cmd_postfix": ") ",
     "delete_cmd_prefix": "rm(",
     "library": "var_list.r",
     "varRefreshCmd": "cat(var_dic_list()) "
    }
   },
   "types_to_exclude": [
    "module",
    "function",
    "builtin_function_or_method",
    "instance",
    "_Feature"
   ],
   "window_display": false
  }
 },
 "nbformat": 4,
 "nbformat_minor": 2
}
